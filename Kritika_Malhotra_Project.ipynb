{
  "nbformat": 4,
  "nbformat_minor": 0,
  "metadata": {
    "colab": {
      "name": "Kritika_Malhotra_Project",
      "provenance": [],
      "collapsed_sections": []
    },
    "kernelspec": {
      "name": "python3",
      "display_name": "Python 3"
    }
  },
  "cells": [
    {
      "cell_type": "markdown",
      "metadata": {
        "id": "zX6Cti0bY4ln"
      },
      "source": [
        "Kritika Malhotra\r\n",
        "\r\n",
        "SRMIST\r\n",
        "\r\n",
        "\r\n",
        "---\r\n",
        "This model is based on the Fashion MNIST dataset. The main aim was to build a model to identify images from the dataset, and to increase the accuracy of the model.\r\n",
        "I ran the model several times by changing the different parameters. The first trial is the test case, and modifications are made to it thereafter. A few conclusions i could draw are as follows-\r\n",
        "\r\n",
        "\r\n",
        "1.   By *increasing the number of epochs* while keeping other parameters same, the *accuracy increased*.\r\n",
        "2.   By *increasing the number of hidden layers* while keeping other parameters same, the *accuracy increased*.\r\n",
        "3.   By *increasing the number of neurons* while keeping other parameters same, the *accuracy increased*.\r\n",
        "\r\n",
        "This is illustrated below in the following trials.\r\n",
        "\r\n",
        "\r\n",
        "\r\n",
        "\r\n",
        "\r\n",
        "\r\n",
        "\r\n",
        "\r\n",
        "\r\n",
        "\r\n",
        "\r\n",
        "\r\n"
      ]
    },
    {
      "cell_type": "code",
      "metadata": {
        "id": "6PPIjV7KA7VM"
      },
      "source": [
        "import tensorflow as tf\r\n",
        "from tensorflow.keras.models import Sequential\r\n",
        "from tensorflow.keras.layers import Input, Dense\r\n",
        "import numpy as np"
      ],
      "execution_count": 2,
      "outputs": []
    },
    {
      "cell_type": "code",
      "metadata": {
        "id": "E9ZBtrrYBFOg"
      },
      "source": [
        "from tensorflow.keras.datasets import fashion_mnist\r\n",
        "data = fashion_mnist.load_data()"
      ],
      "execution_count": 3,
      "outputs": []
    },
    {
      "cell_type": "code",
      "metadata": {
        "id": "aagEnbxLCCYc"
      },
      "source": [
        "(X_train, y_train), (X_test, y_test) = fashion_mnist.load_data()"
      ],
      "execution_count": 4,
      "outputs": []
    },
    {
      "cell_type": "code",
      "metadata": {
        "colab": {
          "base_uri": "https://localhost:8080/",
          "height": 268
        },
        "id": "4MUWQjjlCTmR",
        "outputId": "9981fe72-aa05-450e-cd71-04edc05012dd"
      },
      "source": [
        "import matplotlib.pyplot as plt\r\n",
        "\r\n",
        "plt.subplot(221)\r\n",
        "plt.imshow(X_train[0], cmap=plt.get_cmap('gray'))\r\n",
        "plt.subplot(222)\r\n",
        "plt.imshow(X_train[1], cmap=plt.get_cmap('gray'))\r\n",
        "plt.subplot(223)\r\n",
        "plt.imshow(X_train[2], cmap=plt.get_cmap('gray'))\r\n",
        "plt.subplot(224)\r\n",
        "plt.imshow(X_train[3], cmap=plt.get_cmap('gray'))\r\n",
        "plt.show()"
      ],
      "execution_count": 5,
      "outputs": [
        {
          "output_type": "display_data",
          "data": {
            "image/png": "[encoded data removed]",
            "text/plain": [
              "<Figure size 432x288 with 4 Axes>"
            ]
          },
          "metadata": {
            "tags": [],
            "needs_background": "light"
          }
        }
      ]
    },
    {
      "cell_type": "code",
      "metadata": {
        "colab": {
          "base_uri": "https://localhost:8080/"
        },
        "id": "G2wKHdvXCeUa",
        "outputId": "63e792c9-363c-4d04-8161-ceb8139c64ce"
      },
      "source": [
        "X_train[0].shape"
      ],
      "execution_count": 6,
      "outputs": [
        {
          "output_type": "execute_result",
          "data": {
            "text/plain": [
              "(28, 28)"
            ]
          },
          "metadata": {
            "tags": []
          },
          "execution_count": 6
        }
      ]
    },
    {
      "cell_type": "code",
      "metadata": {
        "id": "ZIZy5zm0CjNP"
      },
      "source": [
        "X_train = X_train.reshape((X_train.shape[0], 28*28)).astype('float32')\r\n",
        "X_test = X_test.reshape((X_test.shape[0], 28*28)).astype('float32')"
      ],
      "execution_count": 7,
      "outputs": []
    },
    {
      "cell_type": "code",
      "metadata": {
        "id": "6x4OP_EGCkpr"
      },
      "source": [
        "X_train = X_train / 255\r\n",
        "X_test = X_test / 255"
      ],
      "execution_count": 8,
      "outputs": []
    },
    {
      "cell_type": "code",
      "metadata": {
        "id": "OGJauKGBCrEe"
      },
      "source": [
        "from keras.utils import np_utils\r\n",
        "\r\n",
        "y_train = np_utils.to_categorical(y_train)\r\n",
        "y_test = np_utils.to_categorical(y_test)\r\n",
        "num_classes = y_test.shape[1]"
      ],
      "execution_count": 9,
      "outputs": []
    },
    {
      "cell_type": "code",
      "metadata": {
        "id": "BxVRBAOJCvBA"
      },
      "source": [
        "from keras.models import Sequential\r\n",
        "from keras.layers import Dense\r\n",
        "from keras.layers import Dropout"
      ],
      "execution_count": 10,
      "outputs": []
    },
    {
      "cell_type": "markdown",
      "metadata": {
        "id": "bUFmYhpeT6V5"
      },
      "source": [
        "**TRIAL 1 -original**"
      ]
    },
    {
      "cell_type": "code",
      "metadata": {
        "id": "uc97iD6mCy9d"
      },
      "source": [
        "model = Sequential()\r\n",
        "model.add(Dense(32, input_dim = 28*28, activation='relu'))  ## hidden layer 1\r\n",
        "model.add(Dense(64, activation='relu'))  ## hidden layer 2\r\n",
        "model.add(Dense(10, activation='softmax'))  ## output layer, 10 = number of classes"
      ],
      "execution_count": 11,
      "outputs": []
    },
    {
      "cell_type": "code",
      "metadata": {
        "id": "4HAY7UDpC1MG"
      },
      "source": [
        "model.compile(loss='categorical_crossentropy', optimizer='adam', metrics=['accuracy'])"
      ],
      "execution_count": 12,
      "outputs": []
    },
    {
      "cell_type": "code",
      "metadata": {
        "colab": {
          "base_uri": "https://localhost:8080/"
        },
        "id": "FZG4-NbSC33X",
        "outputId": "4a07c3eb-6319-4669-be78-0e1f054f7051"
      },
      "source": [
        "model.summary()"
      ],
      "execution_count": 13,
      "outputs": [
        {
          "output_type": "stream",
          "text": [
            "Model: \"sequential\"\n",
            "_________________________________________________________________\n",
            "Layer (type)                 Output Shape              Param #   \n",
            "=================================================================\n",
            "dense (Dense)                (None, 32)                25120     \n",
            "_________________________________________________________________\n",
            "dense_1 (Dense)              (None, 64)                2112      \n",
            "_________________________________________________________________\n",
            "dense_2 (Dense)              (None, 10)                650       \n",
            "=================================================================\n",
            "Total params: 27,882\n",
            "Trainable params: 27,882\n",
            "Non-trainable params: 0\n",
            "_________________________________________________________________\n"
          ],
          "name": "stdout"
        }
      ]
    },
    {
      "cell_type": "code",
      "metadata": {
        "colab": {
          "base_uri": "https://localhost:8080/"
        },
        "id": "HlhUnBTnC7m9",
        "outputId": "66c7da90-7061-4cef-9292-ab182d1cba7b"
      },
      "source": [
        "model.fit(X_train, y_train, validation_split=0.2 , epochs=10, batch_size=100)"
      ],
      "execution_count": 14,
      "outputs": [
        {
          "output_type": "stream",
          "text": [
            "Epoch 1/10\n",
            "480/480 [==============================] - 2s 3ms/step - loss: 0.9347 - accuracy: 0.6860 - val_loss: 0.4423 - val_accuracy: 0.8477\n",
            "Epoch 2/10\n",
            "480/480 [==============================] - 1s 3ms/step - loss: 0.4348 - accuracy: 0.8487 - val_loss: 0.4222 - val_accuracy: 0.8496\n",
            "Epoch 3/10\n",
            "480/480 [==============================] - 1s 3ms/step - loss: 0.3955 - accuracy: 0.8606 - val_loss: 0.4113 - val_accuracy: 0.8572\n",
            "Epoch 4/10\n",
            "480/480 [==============================] - 1s 3ms/step - loss: 0.3719 - accuracy: 0.8692 - val_loss: 0.3790 - val_accuracy: 0.8643\n",
            "Epoch 5/10\n",
            "480/480 [==============================] - 1s 3ms/step - loss: 0.3490 - accuracy: 0.8756 - val_loss: 0.3670 - val_accuracy: 0.8683\n",
            "Epoch 6/10\n",
            "480/480 [==============================] - 1s 3ms/step - loss: 0.3445 - accuracy: 0.8772 - val_loss: 0.3713 - val_accuracy: 0.8659\n",
            "Epoch 7/10\n",
            "480/480 [==============================] - 1s 3ms/step - loss: 0.3259 - accuracy: 0.8829 - val_loss: 0.3550 - val_accuracy: 0.8718\n",
            "Epoch 8/10\n",
            "480/480 [==============================] - 1s 3ms/step - loss: 0.3133 - accuracy: 0.8887 - val_loss: 0.3472 - val_accuracy: 0.8737\n",
            "Epoch 9/10\n",
            "480/480 [==============================] - 1s 3ms/step - loss: 0.3073 - accuracy: 0.8903 - val_loss: 0.3694 - val_accuracy: 0.8689\n",
            "Epoch 10/10\n",
            "480/480 [==============================] - 1s 3ms/step - loss: 0.3011 - accuracy: 0.8900 - val_loss: 0.3580 - val_accuracy: 0.8693\n"
          ],
          "name": "stdout"
        },
        {
          "output_type": "execute_result",
          "data": {
            "text/plain": [
              "<tensorflow.python.keras.callbacks.History at 0x7f5c9dd65278>"
            ]
          },
          "metadata": {
            "tags": []
          },
          "execution_count": 14
        }
      ]
    },
    {
      "cell_type": "code",
      "metadata": {
        "colab": {
          "base_uri": "https://localhost:8080/"
        },
        "id": "fdftM9ynC-qv",
        "outputId": "4b5aed88-a55a-40de-d902-0ab167e0f7e6"
      },
      "source": [
        "scores = model.evaluate(X_test, y_test)\r\n",
        "print(scores)"
      ],
      "execution_count": 15,
      "outputs": [
        {
          "output_type": "stream",
          "text": [
            "313/313 [==============================] - 1s 2ms/step - loss: 0.3816 - accuracy: 0.8619\n",
            "[0.3816107511520386, 0.8618999719619751]\n"
          ],
          "name": "stdout"
        }
      ]
    },
    {
      "cell_type": "markdown",
      "metadata": {
        "id": "B_0mzjlqT33Y"
      },
      "source": [
        "**TRIAL 2 - increased epochs to 100 while keeping other parameters same**"
      ]
    },
    {
      "cell_type": "code",
      "metadata": {
        "id": "S8_aLu-IUAGx"
      },
      "source": [
        "model = Sequential()\r\n",
        "model.add(Dense(32, input_dim = 28*28, activation='relu'))  ## hidden layer 1\r\n",
        "model.add(Dense(64, activation='relu'))  ## hidden layer 2\r\n",
        "model.add(Dense(10, activation='softmax'))  ## output layer, 10 = number of classes"
      ],
      "execution_count": 16,
      "outputs": []
    },
    {
      "cell_type": "code",
      "metadata": {
        "id": "cz86L8rzUHNC"
      },
      "source": [
        "model.compile(loss='categorical_crossentropy', optimizer='adam', metrics=['accuracy'])"
      ],
      "execution_count": 17,
      "outputs": []
    },
    {
      "cell_type": "code",
      "metadata": {
        "colab": {
          "base_uri": "https://localhost:8080/"
        },
        "id": "Wg9I41gjUKHD",
        "outputId": "110e9d10-7aa5-4951-fa9e-9751ab80d744"
      },
      "source": [
        "model.summary()"
      ],
      "execution_count": 18,
      "outputs": [
        {
          "output_type": "stream",
          "text": [
            "Model: \"sequential_1\"\n",
            "_________________________________________________________________\n",
            "Layer (type)                 Output Shape              Param #   \n",
            "=================================================================\n",
            "dense_3 (Dense)              (None, 32)                25120     \n",
            "_________________________________________________________________\n",
            "dense_4 (Dense)              (None, 64)                2112      \n",
            "_________________________________________________________________\n",
            "dense_5 (Dense)              (None, 10)                650       \n",
            "=================================================================\n",
            "Total params: 27,882\n",
            "Trainable params: 27,882\n",
            "Non-trainable params: 0\n",
            "_________________________________________________________________\n"
          ],
          "name": "stdout"
        }
      ]
    },
    {
      "cell_type": "code",
      "metadata": {
        "colab": {
          "base_uri": "https://localhost:8080/"
        },
        "id": "5_Mw0M7FUM0v",
        "outputId": "69b19c84-dd27-47af-8984-28a4faa9dff1"
      },
      "source": [
        "model.fit(X_train, y_train, validation_split=0.2 , epochs=100, batch_size=100)"
      ],
      "execution_count": 19,
      "outputs": [
        {
          "output_type": "stream",
          "text": [
            "Epoch 1/100\n",
            "480/480 [==============================] - 2s 3ms/step - loss: 0.9161 - accuracy: 0.6871 - val_loss: 0.4637 - val_accuracy: 0.8398\n",
            "Epoch 2/100\n",
            "480/480 [==============================] - 1s 3ms/step - loss: 0.4481 - accuracy: 0.8444 - val_loss: 0.4114 - val_accuracy: 0.8544\n",
            "Epoch 3/100\n",
            "480/480 [==============================] - 1s 3ms/step - loss: 0.3961 - accuracy: 0.8586 - val_loss: 0.4033 - val_accuracy: 0.8597\n",
            "Epoch 4/100\n",
            "480/480 [==============================] - 1s 3ms/step - loss: 0.3659 - accuracy: 0.8702 - val_loss: 0.3816 - val_accuracy: 0.8627\n",
            "Epoch 5/100\n",
            "480/480 [==============================] - 1s 3ms/step - loss: 0.3506 - accuracy: 0.8737 - val_loss: 0.3777 - val_accuracy: 0.8643\n",
            "Epoch 6/100\n",
            "480/480 [==============================] - 1s 3ms/step - loss: 0.3373 - accuracy: 0.8773 - val_loss: 0.3592 - val_accuracy: 0.8693\n",
            "Epoch 7/100\n",
            "480/480 [==============================] - 1s 3ms/step - loss: 0.3245 - accuracy: 0.8829 - val_loss: 0.3498 - val_accuracy: 0.8732\n",
            "Epoch 8/100\n",
            "480/480 [==============================] - 1s 3ms/step - loss: 0.3131 - accuracy: 0.8843 - val_loss: 0.3710 - val_accuracy: 0.8655\n",
            "Epoch 9/100\n",
            "480/480 [==============================] - 1s 3ms/step - loss: 0.3110 - accuracy: 0.8883 - val_loss: 0.3530 - val_accuracy: 0.8743\n",
            "Epoch 10/100\n",
            "480/480 [==============================] - 1s 3ms/step - loss: 0.2982 - accuracy: 0.8908 - val_loss: 0.3566 - val_accuracy: 0.8718\n",
            "Epoch 11/100\n",
            "480/480 [==============================] - 1s 3ms/step - loss: 0.2876 - accuracy: 0.8962 - val_loss: 0.3583 - val_accuracy: 0.8757\n",
            "Epoch 12/100\n",
            "480/480 [==============================] - 1s 3ms/step - loss: 0.2814 - accuracy: 0.8974 - val_loss: 0.3495 - val_accuracy: 0.8741\n",
            "Epoch 13/100\n",
            "480/480 [==============================] - 1s 3ms/step - loss: 0.2758 - accuracy: 0.8976 - val_loss: 0.3426 - val_accuracy: 0.8786\n",
            "Epoch 14/100\n",
            "480/480 [==============================] - 1s 3ms/step - loss: 0.2726 - accuracy: 0.8998 - val_loss: 0.3404 - val_accuracy: 0.8782\n",
            "Epoch 15/100\n",
            "480/480 [==============================] - 1s 3ms/step - loss: 0.2662 - accuracy: 0.9011 - val_loss: 0.3467 - val_accuracy: 0.8808\n",
            "Epoch 16/100\n",
            "480/480 [==============================] - 1s 3ms/step - loss: 0.2619 - accuracy: 0.9048 - val_loss: 0.3551 - val_accuracy: 0.8752\n",
            "Epoch 17/100\n",
            "480/480 [==============================] - 1s 3ms/step - loss: 0.2600 - accuracy: 0.9033 - val_loss: 0.3390 - val_accuracy: 0.8815\n",
            "Epoch 18/100\n",
            "480/480 [==============================] - 1s 3ms/step - loss: 0.2461 - accuracy: 0.9086 - val_loss: 0.3434 - val_accuracy: 0.8779\n",
            "Epoch 19/100\n",
            "480/480 [==============================] - 1s 3ms/step - loss: 0.2487 - accuracy: 0.9069 - val_loss: 0.3464 - val_accuracy: 0.8775\n",
            "Epoch 20/100\n",
            "480/480 [==============================] - 1s 3ms/step - loss: 0.2390 - accuracy: 0.9109 - val_loss: 0.3523 - val_accuracy: 0.8758\n",
            "Epoch 21/100\n",
            "480/480 [==============================] - 1s 3ms/step - loss: 0.2472 - accuracy: 0.9094 - val_loss: 0.3443 - val_accuracy: 0.8792\n",
            "Epoch 22/100\n",
            "480/480 [==============================] - 1s 3ms/step - loss: 0.2356 - accuracy: 0.9136 - val_loss: 0.3458 - val_accuracy: 0.8810\n",
            "Epoch 23/100\n",
            "480/480 [==============================] - 1s 3ms/step - loss: 0.2337 - accuracy: 0.9132 - val_loss: 0.3424 - val_accuracy: 0.8811\n",
            "Epoch 24/100\n",
            "480/480 [==============================] - 1s 3ms/step - loss: 0.2205 - accuracy: 0.9195 - val_loss: 0.3393 - val_accuracy: 0.8798\n",
            "Epoch 25/100\n",
            "480/480 [==============================] - 1s 3ms/step - loss: 0.2282 - accuracy: 0.9161 - val_loss: 0.3405 - val_accuracy: 0.8857\n",
            "Epoch 26/100\n",
            "480/480 [==============================] - 1s 3ms/step - loss: 0.2217 - accuracy: 0.9169 - val_loss: 0.3454 - val_accuracy: 0.8827\n",
            "Epoch 27/100\n",
            "480/480 [==============================] - 1s 3ms/step - loss: 0.2181 - accuracy: 0.9196 - val_loss: 0.3501 - val_accuracy: 0.8819\n",
            "Epoch 28/100\n",
            "480/480 [==============================] - 1s 3ms/step - loss: 0.2173 - accuracy: 0.9195 - val_loss: 0.3517 - val_accuracy: 0.8798\n",
            "Epoch 29/100\n",
            "480/480 [==============================] - 1s 3ms/step - loss: 0.2103 - accuracy: 0.9222 - val_loss: 0.3496 - val_accuracy: 0.8844\n",
            "Epoch 30/100\n",
            "480/480 [==============================] - 1s 3ms/step - loss: 0.2126 - accuracy: 0.9219 - val_loss: 0.3568 - val_accuracy: 0.8815\n",
            "Epoch 31/100\n",
            "480/480 [==============================] - 1s 3ms/step - loss: 0.2123 - accuracy: 0.9207 - val_loss: 0.3497 - val_accuracy: 0.8827\n",
            "Epoch 32/100\n",
            "480/480 [==============================] - 1s 3ms/step - loss: 0.2039 - accuracy: 0.9250 - val_loss: 0.3678 - val_accuracy: 0.8788\n",
            "Epoch 33/100\n",
            "480/480 [==============================] - 1s 3ms/step - loss: 0.2048 - accuracy: 0.9240 - val_loss: 0.3615 - val_accuracy: 0.8832\n",
            "Epoch 34/100\n",
            "480/480 [==============================] - 1s 3ms/step - loss: 0.1966 - accuracy: 0.9289 - val_loss: 0.3570 - val_accuracy: 0.8847\n",
            "Epoch 35/100\n",
            "480/480 [==============================] - 1s 3ms/step - loss: 0.1992 - accuracy: 0.9261 - val_loss: 0.3763 - val_accuracy: 0.8783\n",
            "Epoch 36/100\n",
            "480/480 [==============================] - 1s 3ms/step - loss: 0.1987 - accuracy: 0.9255 - val_loss: 0.3797 - val_accuracy: 0.8823\n",
            "Epoch 37/100\n",
            "480/480 [==============================] - 1s 3ms/step - loss: 0.1889 - accuracy: 0.9303 - val_loss: 0.3809 - val_accuracy: 0.8797\n",
            "Epoch 38/100\n",
            "480/480 [==============================] - 1s 3ms/step - loss: 0.1898 - accuracy: 0.9296 - val_loss: 0.3759 - val_accuracy: 0.8799\n",
            "Epoch 39/100\n",
            "480/480 [==============================] - 1s 3ms/step - loss: 0.1856 - accuracy: 0.9306 - val_loss: 0.3754 - val_accuracy: 0.8823\n",
            "Epoch 40/100\n",
            "480/480 [==============================] - 1s 3ms/step - loss: 0.1890 - accuracy: 0.9291 - val_loss: 0.3948 - val_accuracy: 0.8762\n",
            "Epoch 41/100\n",
            "480/480 [==============================] - 1s 3ms/step - loss: 0.1841 - accuracy: 0.9316 - val_loss: 0.3749 - val_accuracy: 0.8798\n",
            "Epoch 42/100\n",
            "480/480 [==============================] - 1s 3ms/step - loss: 0.1802 - accuracy: 0.9337 - val_loss: 0.3949 - val_accuracy: 0.8763\n",
            "Epoch 43/100\n",
            "480/480 [==============================] - 1s 3ms/step - loss: 0.1796 - accuracy: 0.9334 - val_loss: 0.3963 - val_accuracy: 0.8749\n",
            "Epoch 44/100\n",
            "480/480 [==============================] - 1s 3ms/step - loss: 0.1786 - accuracy: 0.9338 - val_loss: 0.3846 - val_accuracy: 0.8780\n",
            "Epoch 45/100\n",
            "480/480 [==============================] - 1s 3ms/step - loss: 0.1749 - accuracy: 0.9353 - val_loss: 0.4069 - val_accuracy: 0.8752\n",
            "Epoch 46/100\n",
            "480/480 [==============================] - 1s 3ms/step - loss: 0.1778 - accuracy: 0.9344 - val_loss: 0.4369 - val_accuracy: 0.8728\n",
            "Epoch 47/100\n",
            "480/480 [==============================] - 1s 3ms/step - loss: 0.1733 - accuracy: 0.9349 - val_loss: 0.3925 - val_accuracy: 0.8797\n",
            "Epoch 48/100\n",
            "480/480 [==============================] - 1s 3ms/step - loss: 0.1639 - accuracy: 0.9389 - val_loss: 0.4025 - val_accuracy: 0.8773\n",
            "Epoch 49/100\n",
            "480/480 [==============================] - 1s 3ms/step - loss: 0.1695 - accuracy: 0.9374 - val_loss: 0.3964 - val_accuracy: 0.8820\n",
            "Epoch 50/100\n",
            "480/480 [==============================] - 1s 3ms/step - loss: 0.1707 - accuracy: 0.9373 - val_loss: 0.4055 - val_accuracy: 0.8766\n",
            "Epoch 51/100\n",
            "480/480 [==============================] - 1s 3ms/step - loss: 0.1610 - accuracy: 0.9397 - val_loss: 0.4132 - val_accuracy: 0.8807\n",
            "Epoch 52/100\n",
            "480/480 [==============================] - 1s 3ms/step - loss: 0.1654 - accuracy: 0.9380 - val_loss: 0.4114 - val_accuracy: 0.8796\n",
            "Epoch 53/100\n",
            "480/480 [==============================] - 1s 3ms/step - loss: 0.1641 - accuracy: 0.9398 - val_loss: 0.4246 - val_accuracy: 0.8758\n",
            "Epoch 54/100\n",
            "480/480 [==============================] - 1s 3ms/step - loss: 0.1671 - accuracy: 0.9385 - val_loss: 0.4481 - val_accuracy: 0.8762\n",
            "Epoch 55/100\n",
            "480/480 [==============================] - 1s 3ms/step - loss: 0.1678 - accuracy: 0.9360 - val_loss: 0.4178 - val_accuracy: 0.8778\n",
            "Epoch 56/100\n",
            "480/480 [==============================] - 1s 3ms/step - loss: 0.1566 - accuracy: 0.9420 - val_loss: 0.4169 - val_accuracy: 0.8806\n",
            "Epoch 57/100\n",
            "480/480 [==============================] - 1s 3ms/step - loss: 0.1530 - accuracy: 0.9435 - val_loss: 0.4334 - val_accuracy: 0.8796\n",
            "Epoch 58/100\n",
            "480/480 [==============================] - 1s 3ms/step - loss: 0.1560 - accuracy: 0.9416 - val_loss: 0.4407 - val_accuracy: 0.8785\n",
            "Epoch 59/100\n",
            "480/480 [==============================] - 1s 3ms/step - loss: 0.1514 - accuracy: 0.9437 - val_loss: 0.4484 - val_accuracy: 0.8789\n",
            "Epoch 60/100\n",
            "480/480 [==============================] - 1s 3ms/step - loss: 0.1513 - accuracy: 0.9435 - val_loss: 0.4374 - val_accuracy: 0.8781\n",
            "Epoch 61/100\n",
            "480/480 [==============================] - 1s 3ms/step - loss: 0.1561 - accuracy: 0.9403 - val_loss: 0.4582 - val_accuracy: 0.8767\n",
            "Epoch 62/100\n",
            "480/480 [==============================] - 1s 3ms/step - loss: 0.1518 - accuracy: 0.9433 - val_loss: 0.4305 - val_accuracy: 0.8796\n",
            "Epoch 63/100\n",
            "480/480 [==============================] - 1s 3ms/step - loss: 0.1493 - accuracy: 0.9450 - val_loss: 0.4354 - val_accuracy: 0.8815\n",
            "Epoch 64/100\n",
            "480/480 [==============================] - 1s 3ms/step - loss: 0.1465 - accuracy: 0.9459 - val_loss: 0.4555 - val_accuracy: 0.8724\n",
            "Epoch 65/100\n",
            "480/480 [==============================] - 1s 3ms/step - loss: 0.1435 - accuracy: 0.9460 - val_loss: 0.4869 - val_accuracy: 0.8716\n",
            "Epoch 66/100\n",
            "480/480 [==============================] - 1s 3ms/step - loss: 0.1410 - accuracy: 0.9476 - val_loss: 0.4647 - val_accuracy: 0.8774\n",
            "Epoch 67/100\n",
            "480/480 [==============================] - 1s 3ms/step - loss: 0.1452 - accuracy: 0.9466 - val_loss: 0.4640 - val_accuracy: 0.8758\n",
            "Epoch 68/100\n",
            "480/480 [==============================] - 1s 3ms/step - loss: 0.1373 - accuracy: 0.9487 - val_loss: 0.4597 - val_accuracy: 0.8802\n",
            "Epoch 69/100\n",
            "480/480 [==============================] - 1s 3ms/step - loss: 0.1418 - accuracy: 0.9476 - val_loss: 0.4697 - val_accuracy: 0.8758\n",
            "Epoch 70/100\n",
            "480/480 [==============================] - 1s 3ms/step - loss: 0.1386 - accuracy: 0.9488 - val_loss: 0.4796 - val_accuracy: 0.8706\n",
            "Epoch 71/100\n",
            "480/480 [==============================] - 1s 3ms/step - loss: 0.1374 - accuracy: 0.9490 - val_loss: 0.4731 - val_accuracy: 0.8757\n",
            "Epoch 72/100\n",
            "480/480 [==============================] - 1s 3ms/step - loss: 0.1342 - accuracy: 0.9505 - val_loss: 0.4972 - val_accuracy: 0.8707\n",
            "Epoch 73/100\n",
            "480/480 [==============================] - 1s 3ms/step - loss: 0.1320 - accuracy: 0.9504 - val_loss: 0.4953 - val_accuracy: 0.8758\n",
            "Epoch 74/100\n",
            "480/480 [==============================] - 1s 3ms/step - loss: 0.1335 - accuracy: 0.9501 - val_loss: 0.5024 - val_accuracy: 0.8741\n",
            "Epoch 75/100\n",
            "480/480 [==============================] - 1s 3ms/step - loss: 0.1334 - accuracy: 0.9498 - val_loss: 0.4954 - val_accuracy: 0.8781\n",
            "Epoch 76/100\n",
            "480/480 [==============================] - 1s 3ms/step - loss: 0.1226 - accuracy: 0.9541 - val_loss: 0.5003 - val_accuracy: 0.8743\n",
            "Epoch 77/100\n",
            "480/480 [==============================] - 1s 3ms/step - loss: 0.1274 - accuracy: 0.9528 - val_loss: 0.4891 - val_accuracy: 0.8762\n",
            "Epoch 78/100\n",
            "480/480 [==============================] - 1s 3ms/step - loss: 0.1269 - accuracy: 0.9537 - val_loss: 0.4962 - val_accuracy: 0.8752\n",
            "Epoch 79/100\n",
            "480/480 [==============================] - 1s 3ms/step - loss: 0.1262 - accuracy: 0.9537 - val_loss: 0.5215 - val_accuracy: 0.8705\n",
            "Epoch 80/100\n",
            "480/480 [==============================] - 1s 3ms/step - loss: 0.1207 - accuracy: 0.9560 - val_loss: 0.5178 - val_accuracy: 0.8734\n",
            "Epoch 81/100\n",
            "480/480 [==============================] - 1s 3ms/step - loss: 0.1203 - accuracy: 0.9543 - val_loss: 0.5259 - val_accuracy: 0.8751\n",
            "Epoch 82/100\n",
            "480/480 [==============================] - 1s 3ms/step - loss: 0.1255 - accuracy: 0.9530 - val_loss: 0.5189 - val_accuracy: 0.8752\n",
            "Epoch 83/100\n",
            "480/480 [==============================] - 1s 3ms/step - loss: 0.1260 - accuracy: 0.9531 - val_loss: 0.5202 - val_accuracy: 0.8723\n",
            "Epoch 84/100\n",
            "480/480 [==============================] - 1s 3ms/step - loss: 0.1224 - accuracy: 0.9551 - val_loss: 0.5180 - val_accuracy: 0.8753\n",
            "Epoch 85/100\n",
            "480/480 [==============================] - 1s 3ms/step - loss: 0.1197 - accuracy: 0.9550 - val_loss: 0.5297 - val_accuracy: 0.8760\n",
            "Epoch 86/100\n",
            "480/480 [==============================] - 1s 3ms/step - loss: 0.1207 - accuracy: 0.9548 - val_loss: 0.5424 - val_accuracy: 0.8718\n",
            "Epoch 87/100\n",
            "480/480 [==============================] - 1s 3ms/step - loss: 0.1193 - accuracy: 0.9560 - val_loss: 0.5402 - val_accuracy: 0.8736\n",
            "Epoch 88/100\n",
            "480/480 [==============================] - 1s 3ms/step - loss: 0.1178 - accuracy: 0.9561 - val_loss: 0.5357 - val_accuracy: 0.8733\n",
            "Epoch 89/100\n",
            "480/480 [==============================] - 1s 3ms/step - loss: 0.1129 - accuracy: 0.9584 - val_loss: 0.5308 - val_accuracy: 0.8788\n",
            "Epoch 90/100\n",
            "480/480 [==============================] - 1s 3ms/step - loss: 0.1135 - accuracy: 0.9576 - val_loss: 0.5511 - val_accuracy: 0.8763\n",
            "Epoch 91/100\n",
            "480/480 [==============================] - 1s 3ms/step - loss: 0.1136 - accuracy: 0.9588 - val_loss: 0.5528 - val_accuracy: 0.8737\n",
            "Epoch 92/100\n",
            "480/480 [==============================] - 1s 3ms/step - loss: 0.1181 - accuracy: 0.9557 - val_loss: 0.5657 - val_accuracy: 0.8722\n",
            "Epoch 93/100\n",
            "480/480 [==============================] - 2s 4ms/step - loss: 0.1070 - accuracy: 0.9618 - val_loss: 0.5704 - val_accuracy: 0.8723\n",
            "Epoch 94/100\n",
            "480/480 [==============================] - 2s 5ms/step - loss: 0.1131 - accuracy: 0.9581 - val_loss: 0.5584 - val_accuracy: 0.8737\n",
            "Epoch 95/100\n",
            "480/480 [==============================] - 3s 6ms/step - loss: 0.1110 - accuracy: 0.9583 - val_loss: 0.5566 - val_accuracy: 0.8746\n",
            "Epoch 96/100\n",
            "480/480 [==============================] - 2s 3ms/step - loss: 0.1122 - accuracy: 0.9580 - val_loss: 0.5680 - val_accuracy: 0.8736\n",
            "Epoch 97/100\n",
            "480/480 [==============================] - 2s 3ms/step - loss: 0.1062 - accuracy: 0.9606 - val_loss: 0.5816 - val_accuracy: 0.8731\n",
            "Epoch 98/100\n",
            "480/480 [==============================] - 2s 3ms/step - loss: 0.1060 - accuracy: 0.9606 - val_loss: 0.5822 - val_accuracy: 0.8751\n",
            "Epoch 99/100\n",
            "480/480 [==============================] - 2s 3ms/step - loss: 0.1072 - accuracy: 0.9594 - val_loss: 0.5983 - val_accuracy: 0.8758\n",
            "Epoch 100/100\n",
            "480/480 [==============================] - 2s 3ms/step - loss: 0.1084 - accuracy: 0.9598 - val_loss: 0.5844 - val_accuracy: 0.8728\n"
          ],
          "name": "stdout"
        },
        {
          "output_type": "execute_result",
          "data": {
            "text/plain": [
              "<tensorflow.python.keras.callbacks.History at 0x7f5c964e7208>"
            ]
          },
          "metadata": {
            "tags": []
          },
          "execution_count": 19
        }
      ]
    },
    {
      "cell_type": "code",
      "metadata": {
        "colab": {
          "base_uri": "https://localhost:8080/"
        },
        "id": "eqmEbmJsUQFF",
        "outputId": "cc5c5cad-0341-475b-da60-54033a690159"
      },
      "source": [
        "scores = model.evaluate(X_test, y_test)\r\n",
        "print(scores)"
      ],
      "execution_count": 20,
      "outputs": [
        {
          "output_type": "stream",
          "text": [
            "313/313 [==============================] - 1s 2ms/step - loss: 0.6100 - accuracy: 0.8698\n",
            "[0.610022783279419, 0.8697999715805054]\n"
          ],
          "name": "stdout"
        }
      ]
    },
    {
      "cell_type": "markdown",
      "metadata": {
        "id": "oKE_rgBuWFvt"
      },
      "source": [
        "By increasing the number of epochs while keeping other parameters same, the accuracy increased.\r\n",
        "\r\n",
        "\r\n",
        "\r\n"
      ]
    },
    {
      "cell_type": "markdown",
      "metadata": {
        "id": "k4Z0FMMYWM80"
      },
      "source": [
        "**TRIAL 3 - increasing number of hidden layers while keeping other parameters same**"
      ]
    },
    {
      "cell_type": "code",
      "metadata": {
        "id": "Rx3pjBOoWOWM"
      },
      "source": [
        "model = Sequential()\r\n",
        "model.add(Dense(32, input_dim = 28*28, activation='relu'))  ## hidden layer 1\r\n",
        "model.add(Dense(64, activation='relu'))  ## hidden layer 2\r\n",
        "model.add(Dense(128,activation='relu'))  ##hidden layer 3\r\n",
        "model.add(Dense(32,activation='relu')) ##hidden layer 4\r\n",
        "model.add(Dense(32,activation='relu'))  ##hidden layer 5\r\n",
        "model.add(Dense(10, activation='softmax'))  ## output layer, 10 = number of classes"
      ],
      "execution_count": 21,
      "outputs": []
    },
    {
      "cell_type": "code",
      "metadata": {
        "id": "T1L57K2nWSE9"
      },
      "source": [
        "model.compile(loss='categorical_crossentropy', optimizer='adam', metrics=['accuracy'])"
      ],
      "execution_count": 22,
      "outputs": []
    },
    {
      "cell_type": "code",
      "metadata": {
        "colab": {
          "base_uri": "https://localhost:8080/"
        },
        "id": "CKAZEHYUWWp3",
        "outputId": "87ff74c1-d84d-459d-cd13-265d532216ac"
      },
      "source": [
        "model.summary()"
      ],
      "execution_count": 23,
      "outputs": [
        {
          "output_type": "stream",
          "text": [
            "Model: \"sequential_2\"\n",
            "_________________________________________________________________\n",
            "Layer (type)                 Output Shape              Param #   \n",
            "=================================================================\n",
            "dense_6 (Dense)              (None, 32)                25120     \n",
            "_________________________________________________________________\n",
            "dense_7 (Dense)              (None, 64)                2112      \n",
            "_________________________________________________________________\n",
            "dense_8 (Dense)              (None, 128)               8320      \n",
            "_________________________________________________________________\n",
            "dense_9 (Dense)              (None, 32)                4128      \n",
            "_________________________________________________________________\n",
            "dense_10 (Dense)             (None, 32)                1056      \n",
            "_________________________________________________________________\n",
            "dense_11 (Dense)             (None, 10)                330       \n",
            "=================================================================\n",
            "Total params: 41,066\n",
            "Trainable params: 41,066\n",
            "Non-trainable params: 0\n",
            "_________________________________________________________________\n"
          ],
          "name": "stdout"
        }
      ]
    },
    {
      "cell_type": "code",
      "metadata": {
        "colab": {
          "base_uri": "https://localhost:8080/"
        },
        "id": "NU7AcOqrWZNy",
        "outputId": "cd401c7e-95f6-464d-f175-ad3d74fad419"
      },
      "source": [
        "model.fit(X_train, y_train, validation_split=0.2 , epochs=10, batch_size=100)"
      ],
      "execution_count": 24,
      "outputs": [
        {
          "output_type": "stream",
          "text": [
            "Epoch 1/10\n",
            "480/480 [==============================] - 3s 5ms/step - loss: 1.0125 - accuracy: 0.6288 - val_loss: 0.4718 - val_accuracy: 0.8288\n",
            "Epoch 2/10\n",
            "480/480 [==============================] - 2s 4ms/step - loss: 0.4482 - accuracy: 0.8403 - val_loss: 0.4127 - val_accuracy: 0.8543\n",
            "Epoch 3/10\n",
            "480/480 [==============================] - 2s 4ms/step - loss: 0.3968 - accuracy: 0.8580 - val_loss: 0.4955 - val_accuracy: 0.8191\n",
            "Epoch 4/10\n",
            "480/480 [==============================] - 2s 4ms/step - loss: 0.3787 - accuracy: 0.8625 - val_loss: 0.4036 - val_accuracy: 0.8540\n",
            "Epoch 5/10\n",
            "480/480 [==============================] - 2s 4ms/step - loss: 0.3491 - accuracy: 0.8734 - val_loss: 0.3692 - val_accuracy: 0.8671\n",
            "Epoch 6/10\n",
            "480/480 [==============================] - 2s 4ms/step - loss: 0.3306 - accuracy: 0.8800 - val_loss: 0.3683 - val_accuracy: 0.8673\n",
            "Epoch 7/10\n",
            "480/480 [==============================] - 2s 4ms/step - loss: 0.3240 - accuracy: 0.8828 - val_loss: 0.3715 - val_accuracy: 0.8671\n",
            "Epoch 8/10\n",
            "480/480 [==============================] - 2s 4ms/step - loss: 0.3067 - accuracy: 0.8872 - val_loss: 0.3589 - val_accuracy: 0.8695\n",
            "Epoch 9/10\n",
            "480/480 [==============================] - 2s 4ms/step - loss: 0.2934 - accuracy: 0.8894 - val_loss: 0.3435 - val_accuracy: 0.8731\n",
            "Epoch 10/10\n",
            "480/480 [==============================] - 2s 4ms/step - loss: 0.2890 - accuracy: 0.8902 - val_loss: 0.3458 - val_accuracy: 0.8755\n"
          ],
          "name": "stdout"
        },
        {
          "output_type": "execute_result",
          "data": {
            "text/plain": [
              "<tensorflow.python.keras.callbacks.History at 0x7f5ca5ab61d0>"
            ]
          },
          "metadata": {
            "tags": []
          },
          "execution_count": 24
        }
      ]
    },
    {
      "cell_type": "code",
      "metadata": {
        "colab": {
          "base_uri": "https://localhost:8080/"
        },
        "id": "0ou3x3A5Wgiv",
        "outputId": "a7f5788c-9b43-4ef6-871d-59b131863a07"
      },
      "source": [
        "scores = model.evaluate(X_test, y_test)\r\n",
        "print(scores)"
      ],
      "execution_count": 25,
      "outputs": [
        {
          "output_type": "stream",
          "text": [
            "313/313 [==============================] - 1s 2ms/step - loss: 0.3651 - accuracy: 0.8691\n",
            "[0.36506977677345276, 0.8690999746322632]\n"
          ],
          "name": "stdout"
        }
      ]
    },
    {
      "cell_type": "markdown",
      "metadata": {
        "id": "Xr_fgPCEXPmj"
      },
      "source": [
        "Increasing the number of hidden layers while keeping other parameters same increased the accuracy."
      ]
    },
    {
      "cell_type": "markdown",
      "metadata": {
        "id": "JL8GgMY0XYLn"
      },
      "source": [
        "**TRIAL 4 - increased number of hidden layers and neurons while keeping other parameters same**"
      ]
    },
    {
      "cell_type": "code",
      "metadata": {
        "id": "IFGdxv0JXeXH"
      },
      "source": [
        "model = Sequential()\r\n",
        "model.add(Dense(128, input_dim = 28*28, activation='relu'))  ## hidden layer 1\r\n",
        "model.add(Dense(128, activation='relu'))  ## hidden layer 2\r\n",
        "model.add(Dense(200,activation='relu'))  ##hidden layer 3\r\n",
        "model.add(Dense(64,activation='relu')) ##hidden layer 4\r\n",
        "model.add(Dense(64,activation='relu'))  ##hidden layer 5\r\n",
        "model.add(Dense(10, activation='softmax'))  ## output layer, 10 = number of classes"
      ],
      "execution_count": 26,
      "outputs": []
    },
    {
      "cell_type": "code",
      "metadata": {
        "id": "XTNk6y1sXhwJ"
      },
      "source": [
        "model.compile(loss='categorical_crossentropy', optimizer='adam', metrics=['accuracy'])"
      ],
      "execution_count": 27,
      "outputs": []
    },
    {
      "cell_type": "code",
      "metadata": {
        "colab": {
          "base_uri": "https://localhost:8080/"
        },
        "id": "-hLLwEeKXkrv",
        "outputId": "9e0a3a25-67bc-491d-d62f-889a00cc13ca"
      },
      "source": [
        "model.summary()"
      ],
      "execution_count": 28,
      "outputs": [
        {
          "output_type": "stream",
          "text": [
            "Model: \"sequential_3\"\n",
            "_________________________________________________________________\n",
            "Layer (type)                 Output Shape              Param #   \n",
            "=================================================================\n",
            "dense_12 (Dense)             (None, 128)               100480    \n",
            "_________________________________________________________________\n",
            "dense_13 (Dense)             (None, 128)               16512     \n",
            "_________________________________________________________________\n",
            "dense_14 (Dense)             (None, 200)               25800     \n",
            "_________________________________________________________________\n",
            "dense_15 (Dense)             (None, 64)                12864     \n",
            "_________________________________________________________________\n",
            "dense_16 (Dense)             (None, 64)                4160      \n",
            "_________________________________________________________________\n",
            "dense_17 (Dense)             (None, 10)                650       \n",
            "=================================================================\n",
            "Total params: 160,466\n",
            "Trainable params: 160,466\n",
            "Non-trainable params: 0\n",
            "_________________________________________________________________\n"
          ],
          "name": "stdout"
        }
      ]
    },
    {
      "cell_type": "code",
      "metadata": {
        "colab": {
          "base_uri": "https://localhost:8080/"
        },
        "id": "oWIvb-pHXruz",
        "outputId": "d0acefa2-dd98-4475-f737-7d7a00e72178"
      },
      "source": [
        "model.fit(X_train, y_train, validation_split=0.2 , epochs=10, batch_size=100)"
      ],
      "execution_count": 29,
      "outputs": [
        {
          "output_type": "stream",
          "text": [
            "Epoch 1/10\n",
            "480/480 [==============================] - 4s 6ms/step - loss: 0.8151 - accuracy: 0.7043 - val_loss: 0.4564 - val_accuracy: 0.8353\n",
            "Epoch 2/10\n",
            "480/480 [==============================] - 3s 6ms/step - loss: 0.3997 - accuracy: 0.8536 - val_loss: 0.4015 - val_accuracy: 0.8511\n",
            "Epoch 3/10\n",
            "480/480 [==============================] - 3s 6ms/step - loss: 0.3522 - accuracy: 0.8695 - val_loss: 0.3503 - val_accuracy: 0.8708\n",
            "Epoch 4/10\n",
            "480/480 [==============================] - 3s 6ms/step - loss: 0.3270 - accuracy: 0.8791 - val_loss: 0.3540 - val_accuracy: 0.8745\n",
            "Epoch 5/10\n",
            "480/480 [==============================] - 3s 6ms/step - loss: 0.3048 - accuracy: 0.8867 - val_loss: 0.3331 - val_accuracy: 0.8814\n",
            "Epoch 6/10\n",
            "480/480 [==============================] - 3s 6ms/step - loss: 0.2892 - accuracy: 0.8912 - val_loss: 0.3198 - val_accuracy: 0.8847\n",
            "Epoch 7/10\n",
            "480/480 [==============================] - 3s 6ms/step - loss: 0.2803 - accuracy: 0.8956 - val_loss: 0.3398 - val_accuracy: 0.8818\n",
            "Epoch 8/10\n",
            "480/480 [==============================] - 3s 6ms/step - loss: 0.2624 - accuracy: 0.9005 - val_loss: 0.3221 - val_accuracy: 0.8865\n",
            "Epoch 9/10\n",
            "480/480 [==============================] - 3s 6ms/step - loss: 0.2530 - accuracy: 0.9032 - val_loss: 0.3269 - val_accuracy: 0.8849\n",
            "Epoch 10/10\n",
            "480/480 [==============================] - 3s 6ms/step - loss: 0.2471 - accuracy: 0.9053 - val_loss: 0.3232 - val_accuracy: 0.8827\n"
          ],
          "name": "stdout"
        },
        {
          "output_type": "execute_result",
          "data": {
            "text/plain": [
              "<tensorflow.python.keras.callbacks.History at 0x7f5c95bdec18>"
            ]
          },
          "metadata": {
            "tags": []
          },
          "execution_count": 29
        }
      ]
    },
    {
      "cell_type": "code",
      "metadata": {
        "colab": {
          "base_uri": "https://localhost:8080/"
        },
        "id": "24X9n_gcXsSq",
        "outputId": "01cd393b-5121-4de8-ab2b-1d7bd4a9b22d"
      },
      "source": [
        "scores = model.evaluate(X_test, y_test)\r\n",
        "print(scores)"
      ],
      "execution_count": 30,
      "outputs": [
        {
          "output_type": "stream",
          "text": [
            "313/313 [==============================] - 1s 2ms/step - loss: 0.3496 - accuracy: 0.8771\n",
            "[0.3495623767375946, 0.8770999908447266]\n"
          ],
          "name": "stdout"
        }
      ]
    },
    {
      "cell_type": "markdown",
      "metadata": {
        "id": "S1P59ozeYEKy"
      },
      "source": [
        "Increasing the number of neurons while keeping other parameters same increased the accuracy."
      ]
    },
    {
      "cell_type": "markdown",
      "metadata": {
        "id": "4x_4pu3uYRpL"
      },
      "source": [
        "**TRIAL 5**"
      ]
    },
    {
      "cell_type": "code",
      "metadata": {
        "id": "F_u-tKJsYRUb"
      },
      "source": [
        "model = Sequential()\r\n",
        "model.add(Dense(128, input_dim = 28*28, activation='relu'))  ## hidden layer 1\r\n",
        "model.add(Dense(128, activation='relu'))  ## hidden layer 2\r\n",
        "model.add(Dense(200,activation='relu'))  ##hidden layer 3\r\n",
        "model.add(Dense(64,activation='relu')) ##hidden layer 4\r\n",
        "model.add(Dense(64,activation='relu'))  ##hidden layer 5\r\n",
        "model.add(Dense(10, activation='softmax'))  ## output layer, 10 = number of classes"
      ],
      "execution_count": 31,
      "outputs": []
    },
    {
      "cell_type": "code",
      "metadata": {
        "id": "ZSIQGhB-YYIi"
      },
      "source": [
        "model.compile(loss='categorical_crossentropy', optimizer='adam', metrics=['accuracy'])"
      ],
      "execution_count": 32,
      "outputs": []
    },
    {
      "cell_type": "code",
      "metadata": {
        "colab": {
          "base_uri": "https://localhost:8080/"
        },
        "id": "4T5SX5XFYbfd",
        "outputId": "2faa39d2-aeb3-478d-f355-a1d677ab389d"
      },
      "source": [
        "model.summary()"
      ],
      "execution_count": 33,
      "outputs": [
        {
          "output_type": "stream",
          "text": [
            "Model: \"sequential_4\"\n",
            "_________________________________________________________________\n",
            "Layer (type)                 Output Shape              Param #   \n",
            "=================================================================\n",
            "dense_18 (Dense)             (None, 128)               100480    \n",
            "_________________________________________________________________\n",
            "dense_19 (Dense)             (None, 128)               16512     \n",
            "_________________________________________________________________\n",
            "dense_20 (Dense)             (None, 200)               25800     \n",
            "_________________________________________________________________\n",
            "dense_21 (Dense)             (None, 64)                12864     \n",
            "_________________________________________________________________\n",
            "dense_22 (Dense)             (None, 64)                4160      \n",
            "_________________________________________________________________\n",
            "dense_23 (Dense)             (None, 10)                650       \n",
            "=================================================================\n",
            "Total params: 160,466\n",
            "Trainable params: 160,466\n",
            "Non-trainable params: 0\n",
            "_________________________________________________________________\n"
          ],
          "name": "stdout"
        }
      ]
    },
    {
      "cell_type": "code",
      "metadata": {
        "colab": {
          "base_uri": "https://localhost:8080/"
        },
        "id": "INExIbA3YkrE",
        "outputId": "0ce8314c-402a-410d-f135-dd732a3855e6"
      },
      "source": [
        "model.fit(X_train, y_train, validation_split=0.2 , epochs=250, batch_size=100)"
      ],
      "execution_count": 34,
      "outputs": [
        {
          "output_type": "stream",
          "text": [
            "Epoch 1/250\n",
            "480/480 [==============================] - 3s 6ms/step - loss: 0.8403 - accuracy: 0.7004 - val_loss: 0.4496 - val_accuracy: 0.8345\n",
            "Epoch 2/250\n",
            "480/480 [==============================] - 3s 6ms/step - loss: 0.4032 - accuracy: 0.8509 - val_loss: 0.3751 - val_accuracy: 0.8605\n",
            "Epoch 3/250\n",
            "480/480 [==============================] - 3s 6ms/step - loss: 0.3501 - accuracy: 0.8713 - val_loss: 0.3597 - val_accuracy: 0.8674\n",
            "Epoch 4/250\n",
            "480/480 [==============================] - 3s 6ms/step - loss: 0.3320 - accuracy: 0.8777 - val_loss: 0.3525 - val_accuracy: 0.8722\n",
            "Epoch 5/250\n",
            "480/480 [==============================] - 3s 6ms/step - loss: 0.3040 - accuracy: 0.8892 - val_loss: 0.3261 - val_accuracy: 0.8830\n",
            "Epoch 6/250\n",
            "480/480 [==============================] - 3s 6ms/step - loss: 0.2787 - accuracy: 0.8967 - val_loss: 0.3253 - val_accuracy: 0.8839\n",
            "Epoch 7/250\n",
            "480/480 [==============================] - 3s 6ms/step - loss: 0.2778 - accuracy: 0.8975 - val_loss: 0.3267 - val_accuracy: 0.8842\n",
            "Epoch 8/250\n",
            "480/480 [==============================] - 3s 6ms/step - loss: 0.2651 - accuracy: 0.9015 - val_loss: 0.3322 - val_accuracy: 0.8819\n",
            "Epoch 9/250\n",
            "480/480 [==============================] - 3s 6ms/step - loss: 0.2512 - accuracy: 0.9074 - val_loss: 0.3453 - val_accuracy: 0.8832\n",
            "Epoch 10/250\n",
            "480/480 [==============================] - 3s 6ms/step - loss: 0.2396 - accuracy: 0.9107 - val_loss: 0.3379 - val_accuracy: 0.8785\n",
            "Epoch 11/250\n",
            "480/480 [==============================] - 3s 6ms/step - loss: 0.2369 - accuracy: 0.9116 - val_loss: 0.3234 - val_accuracy: 0.8848\n",
            "Epoch 12/250\n",
            "480/480 [==============================] - 3s 6ms/step - loss: 0.2270 - accuracy: 0.9154 - val_loss: 0.3205 - val_accuracy: 0.8893\n",
            "Epoch 13/250\n",
            "480/480 [==============================] - 3s 6ms/step - loss: 0.2194 - accuracy: 0.9157 - val_loss: 0.3355 - val_accuracy: 0.8858\n",
            "Epoch 14/250\n",
            "480/480 [==============================] - 3s 6ms/step - loss: 0.2101 - accuracy: 0.9210 - val_loss: 0.3216 - val_accuracy: 0.8918\n",
            "Epoch 15/250\n",
            "480/480 [==============================] - 3s 6ms/step - loss: 0.2035 - accuracy: 0.9236 - val_loss: 0.3577 - val_accuracy: 0.8810\n",
            "Epoch 16/250\n",
            "480/480 [==============================] - 3s 6ms/step - loss: 0.1995 - accuracy: 0.9231 - val_loss: 0.3441 - val_accuracy: 0.8898\n",
            "Epoch 17/250\n",
            "480/480 [==============================] - 3s 6ms/step - loss: 0.1938 - accuracy: 0.9254 - val_loss: 0.3461 - val_accuracy: 0.8900\n",
            "Epoch 18/250\n",
            "480/480 [==============================] - 3s 6ms/step - loss: 0.1905 - accuracy: 0.9274 - val_loss: 0.3369 - val_accuracy: 0.8915\n",
            "Epoch 19/250\n",
            "480/480 [==============================] - 3s 6ms/step - loss: 0.1776 - accuracy: 0.9324 - val_loss: 0.3478 - val_accuracy: 0.8923\n",
            "Epoch 20/250\n",
            "480/480 [==============================] - 3s 6ms/step - loss: 0.1765 - accuracy: 0.9328 - val_loss: 0.3325 - val_accuracy: 0.8905\n",
            "Epoch 21/250\n",
            "480/480 [==============================] - 3s 6ms/step - loss: 0.1696 - accuracy: 0.9350 - val_loss: 0.3693 - val_accuracy: 0.8867\n",
            "Epoch 22/250\n",
            "480/480 [==============================] - 3s 6ms/step - loss: 0.1675 - accuracy: 0.9359 - val_loss: 0.3414 - val_accuracy: 0.8937\n",
            "Epoch 23/250\n",
            "480/480 [==============================] - 3s 6ms/step - loss: 0.1578 - accuracy: 0.9383 - val_loss: 0.3582 - val_accuracy: 0.8879\n",
            "Epoch 24/250\n",
            "480/480 [==============================] - 3s 6ms/step - loss: 0.1560 - accuracy: 0.9405 - val_loss: 0.3754 - val_accuracy: 0.8918\n",
            "Epoch 25/250\n",
            "480/480 [==============================] - 3s 6ms/step - loss: 0.1544 - accuracy: 0.9412 - val_loss: 0.3684 - val_accuracy: 0.8857\n",
            "Epoch 26/250\n",
            "480/480 [==============================] - 3s 6ms/step - loss: 0.1521 - accuracy: 0.9427 - val_loss: 0.4013 - val_accuracy: 0.8938\n",
            "Epoch 27/250\n",
            "480/480 [==============================] - 3s 6ms/step - loss: 0.1521 - accuracy: 0.9408 - val_loss: 0.4060 - val_accuracy: 0.8918\n",
            "Epoch 28/250\n",
            "480/480 [==============================] - 3s 6ms/step - loss: 0.1459 - accuracy: 0.9438 - val_loss: 0.3763 - val_accuracy: 0.8893\n",
            "Epoch 29/250\n",
            "480/480 [==============================] - 3s 6ms/step - loss: 0.1363 - accuracy: 0.9481 - val_loss: 0.3862 - val_accuracy: 0.8929\n",
            "Epoch 30/250\n",
            "480/480 [==============================] - 3s 6ms/step - loss: 0.1364 - accuracy: 0.9474 - val_loss: 0.3860 - val_accuracy: 0.8942\n",
            "Epoch 31/250\n",
            "480/480 [==============================] - 3s 6ms/step - loss: 0.1265 - accuracy: 0.9504 - val_loss: 0.4022 - val_accuracy: 0.8911\n",
            "Epoch 32/250\n",
            "480/480 [==============================] - 3s 6ms/step - loss: 0.1269 - accuracy: 0.9504 - val_loss: 0.4322 - val_accuracy: 0.8934\n",
            "Epoch 33/250\n",
            "480/480 [==============================] - 3s 6ms/step - loss: 0.1209 - accuracy: 0.9535 - val_loss: 0.4015 - val_accuracy: 0.8910\n",
            "Epoch 34/250\n",
            "480/480 [==============================] - 3s 6ms/step - loss: 0.1179 - accuracy: 0.9542 - val_loss: 0.4197 - val_accuracy: 0.8951\n",
            "Epoch 35/250\n",
            "480/480 [==============================] - 3s 6ms/step - loss: 0.1131 - accuracy: 0.9559 - val_loss: 0.4485 - val_accuracy: 0.8883\n",
            "Epoch 36/250\n",
            "480/480 [==============================] - 3s 6ms/step - loss: 0.1223 - accuracy: 0.9539 - val_loss: 0.4541 - val_accuracy: 0.8938\n",
            "Epoch 37/250\n",
            "480/480 [==============================] - 3s 6ms/step - loss: 0.1105 - accuracy: 0.9577 - val_loss: 0.4211 - val_accuracy: 0.8915\n",
            "Epoch 38/250\n",
            "480/480 [==============================] - 3s 6ms/step - loss: 0.1058 - accuracy: 0.9577 - val_loss: 0.4726 - val_accuracy: 0.8889\n",
            "Epoch 39/250\n",
            "480/480 [==============================] - 3s 6ms/step - loss: 0.1098 - accuracy: 0.9582 - val_loss: 0.4843 - val_accuracy: 0.8903\n",
            "Epoch 40/250\n",
            "480/480 [==============================] - 3s 6ms/step - loss: 0.1029 - accuracy: 0.9598 - val_loss: 0.4981 - val_accuracy: 0.8943\n",
            "Epoch 41/250\n",
            "480/480 [==============================] - 3s 6ms/step - loss: 0.0986 - accuracy: 0.9625 - val_loss: 0.4713 - val_accuracy: 0.8903\n",
            "Epoch 42/250\n",
            "480/480 [==============================] - 3s 6ms/step - loss: 0.1022 - accuracy: 0.9605 - val_loss: 0.4652 - val_accuracy: 0.8899\n",
            "Epoch 43/250\n",
            "480/480 [==============================] - 3s 6ms/step - loss: 0.0976 - accuracy: 0.9622 - val_loss: 0.5057 - val_accuracy: 0.8911\n",
            "Epoch 44/250\n",
            "480/480 [==============================] - 3s 6ms/step - loss: 0.0855 - accuracy: 0.9666 - val_loss: 0.5082 - val_accuracy: 0.8949\n",
            "Epoch 45/250\n",
            "480/480 [==============================] - 3s 6ms/step - loss: 0.0899 - accuracy: 0.9647 - val_loss: 0.5036 - val_accuracy: 0.8920\n",
            "Epoch 46/250\n",
            "480/480 [==============================] - 3s 6ms/step - loss: 0.0924 - accuracy: 0.9645 - val_loss: 0.5059 - val_accuracy: 0.8915\n",
            "Epoch 47/250\n",
            "480/480 [==============================] - 3s 6ms/step - loss: 0.0887 - accuracy: 0.9655 - val_loss: 0.5408 - val_accuracy: 0.8874\n",
            "Epoch 48/250\n",
            "480/480 [==============================] - 3s 6ms/step - loss: 0.0913 - accuracy: 0.9643 - val_loss: 0.5052 - val_accuracy: 0.8936\n",
            "Epoch 49/250\n",
            "480/480 [==============================] - 3s 6ms/step - loss: 0.0801 - accuracy: 0.9681 - val_loss: 0.5269 - val_accuracy: 0.8908\n",
            "Epoch 50/250\n",
            "480/480 [==============================] - 3s 6ms/step - loss: 0.0791 - accuracy: 0.9697 - val_loss: 0.5353 - val_accuracy: 0.8922\n",
            "Epoch 51/250\n",
            "480/480 [==============================] - 3s 6ms/step - loss: 0.0780 - accuracy: 0.9703 - val_loss: 0.5502 - val_accuracy: 0.8942\n",
            "Epoch 52/250\n",
            "480/480 [==============================] - 3s 6ms/step - loss: 0.0796 - accuracy: 0.9681 - val_loss: 0.5028 - val_accuracy: 0.8907\n",
            "Epoch 53/250\n",
            "480/480 [==============================] - 3s 6ms/step - loss: 0.0844 - accuracy: 0.9686 - val_loss: 0.5976 - val_accuracy: 0.8873\n",
            "Epoch 54/250\n",
            "480/480 [==============================] - 3s 6ms/step - loss: 0.0801 - accuracy: 0.9699 - val_loss: 0.5162 - val_accuracy: 0.8928\n",
            "Epoch 55/250\n",
            "480/480 [==============================] - 3s 6ms/step - loss: 0.0777 - accuracy: 0.9705 - val_loss: 0.5934 - val_accuracy: 0.8912\n",
            "Epoch 56/250\n",
            "480/480 [==============================] - 3s 6ms/step - loss: 0.0709 - accuracy: 0.9725 - val_loss: 0.5743 - val_accuracy: 0.8923\n",
            "Epoch 57/250\n",
            "480/480 [==============================] - 3s 6ms/step - loss: 0.0711 - accuracy: 0.9724 - val_loss: 0.5976 - val_accuracy: 0.8938\n",
            "Epoch 58/250\n",
            "480/480 [==============================] - 3s 6ms/step - loss: 0.0684 - accuracy: 0.9739 - val_loss: 0.5626 - val_accuracy: 0.8906\n",
            "Epoch 59/250\n",
            "480/480 [==============================] - 3s 6ms/step - loss: 0.0695 - accuracy: 0.9727 - val_loss: 0.6398 - val_accuracy: 0.8905\n",
            "Epoch 60/250\n",
            "480/480 [==============================] - 3s 6ms/step - loss: 0.0644 - accuracy: 0.9739 - val_loss: 0.6230 - val_accuracy: 0.8896\n",
            "Epoch 61/250\n",
            "480/480 [==============================] - 3s 6ms/step - loss: 0.0731 - accuracy: 0.9723 - val_loss: 0.6034 - val_accuracy: 0.8874\n",
            "Epoch 62/250\n",
            "480/480 [==============================] - 3s 6ms/step - loss: 0.0655 - accuracy: 0.9757 - val_loss: 0.6057 - val_accuracy: 0.8893\n",
            "Epoch 63/250\n",
            "480/480 [==============================] - 3s 6ms/step - loss: 0.0665 - accuracy: 0.9745 - val_loss: 0.5680 - val_accuracy: 0.8893\n",
            "Epoch 64/250\n",
            "480/480 [==============================] - 3s 6ms/step - loss: 0.0557 - accuracy: 0.9769 - val_loss: 0.5601 - val_accuracy: 0.8914\n",
            "Epoch 65/250\n",
            "480/480 [==============================] - 3s 6ms/step - loss: 0.0673 - accuracy: 0.9734 - val_loss: 0.6147 - val_accuracy: 0.8878\n",
            "Epoch 66/250\n",
            "480/480 [==============================] - 3s 6ms/step - loss: 0.0582 - accuracy: 0.9782 - val_loss: 0.6209 - val_accuracy: 0.8908\n",
            "Epoch 67/250\n",
            "480/480 [==============================] - 3s 6ms/step - loss: 0.0659 - accuracy: 0.9759 - val_loss: 0.6045 - val_accuracy: 0.8923\n",
            "Epoch 68/250\n",
            "480/480 [==============================] - 3s 6ms/step - loss: 0.0529 - accuracy: 0.9809 - val_loss: 0.6630 - val_accuracy: 0.8898\n",
            "Epoch 69/250\n",
            "480/480 [==============================] - 3s 6ms/step - loss: 0.0561 - accuracy: 0.9790 - val_loss: 0.6478 - val_accuracy: 0.8848\n",
            "Epoch 70/250\n",
            "480/480 [==============================] - 3s 6ms/step - loss: 0.0550 - accuracy: 0.9792 - val_loss: 0.5735 - val_accuracy: 0.8784\n",
            "Epoch 71/250\n",
            "480/480 [==============================] - 3s 6ms/step - loss: 0.0607 - accuracy: 0.9771 - val_loss: 0.5812 - val_accuracy: 0.8931\n",
            "Epoch 72/250\n",
            "480/480 [==============================] - 3s 6ms/step - loss: 0.0515 - accuracy: 0.9805 - val_loss: 0.6396 - val_accuracy: 0.8889\n",
            "Epoch 73/250\n",
            "480/480 [==============================] - 3s 6ms/step - loss: 0.0551 - accuracy: 0.9797 - val_loss: 0.6585 - val_accuracy: 0.8854\n",
            "Epoch 74/250\n",
            "480/480 [==============================] - 3s 6ms/step - loss: 0.0539 - accuracy: 0.9799 - val_loss: 0.6348 - val_accuracy: 0.8927\n",
            "Epoch 75/250\n",
            "480/480 [==============================] - 3s 6ms/step - loss: 0.0505 - accuracy: 0.9811 - val_loss: 0.6199 - val_accuracy: 0.8940\n",
            "Epoch 76/250\n",
            "480/480 [==============================] - 3s 6ms/step - loss: 0.0464 - accuracy: 0.9823 - val_loss: 0.6450 - val_accuracy: 0.8857\n",
            "Epoch 77/250\n",
            "480/480 [==============================] - 3s 6ms/step - loss: 0.0452 - accuracy: 0.9840 - val_loss: 0.7361 - val_accuracy: 0.8896\n",
            "Epoch 78/250\n",
            "480/480 [==============================] - 3s 6ms/step - loss: 0.0510 - accuracy: 0.9813 - val_loss: 0.6760 - val_accuracy: 0.8941\n",
            "Epoch 79/250\n",
            "480/480 [==============================] - 3s 6ms/step - loss: 0.0499 - accuracy: 0.9811 - val_loss: 0.6083 - val_accuracy: 0.8890\n",
            "Epoch 80/250\n",
            "480/480 [==============================] - 3s 6ms/step - loss: 0.0370 - accuracy: 0.9858 - val_loss: 0.6728 - val_accuracy: 0.8898\n",
            "Epoch 81/250\n",
            "480/480 [==============================] - 3s 6ms/step - loss: 0.0515 - accuracy: 0.9803 - val_loss: 0.6032 - val_accuracy: 0.8919\n",
            "Epoch 82/250\n",
            "480/480 [==============================] - 3s 6ms/step - loss: 0.0405 - accuracy: 0.9854 - val_loss: 0.7444 - val_accuracy: 0.8850\n",
            "Epoch 83/250\n",
            "480/480 [==============================] - 3s 6ms/step - loss: 0.0534 - accuracy: 0.9797 - val_loss: 0.6038 - val_accuracy: 0.8920\n",
            "Epoch 84/250\n",
            "480/480 [==============================] - 3s 6ms/step - loss: 0.0377 - accuracy: 0.9857 - val_loss: 0.6629 - val_accuracy: 0.8918\n",
            "Epoch 85/250\n",
            "480/480 [==============================] - 3s 6ms/step - loss: 0.0405 - accuracy: 0.9854 - val_loss: 0.6765 - val_accuracy: 0.8913\n",
            "Epoch 86/250\n",
            "480/480 [==============================] - 3s 6ms/step - loss: 0.0491 - accuracy: 0.9816 - val_loss: 0.6313 - val_accuracy: 0.8872\n",
            "Epoch 87/250\n",
            "480/480 [==============================] - 3s 6ms/step - loss: 0.0427 - accuracy: 0.9834 - val_loss: 0.6451 - val_accuracy: 0.8937\n",
            "Epoch 88/250\n",
            "480/480 [==============================] - 3s 6ms/step - loss: 0.0400 - accuracy: 0.9849 - val_loss: 0.7405 - val_accuracy: 0.8871\n",
            "Epoch 89/250\n",
            "480/480 [==============================] - 3s 6ms/step - loss: 0.0441 - accuracy: 0.9842 - val_loss: 0.7782 - val_accuracy: 0.8797\n",
            "Epoch 90/250\n",
            "480/480 [==============================] - 3s 7ms/step - loss: 0.0440 - accuracy: 0.9849 - val_loss: 0.7045 - val_accuracy: 0.8892\n",
            "Epoch 91/250\n",
            "480/480 [==============================] - 3s 6ms/step - loss: 0.0393 - accuracy: 0.9857 - val_loss: 0.6798 - val_accuracy: 0.8942\n",
            "Epoch 92/250\n",
            "480/480 [==============================] - 3s 6ms/step - loss: 0.0415 - accuracy: 0.9845 - val_loss: 0.7772 - val_accuracy: 0.8906\n",
            "Epoch 93/250\n",
            "480/480 [==============================] - 3s 6ms/step - loss: 0.0401 - accuracy: 0.9848 - val_loss: 0.7863 - val_accuracy: 0.8928\n",
            "Epoch 94/250\n",
            "480/480 [==============================] - 3s 6ms/step - loss: 0.0449 - accuracy: 0.9845 - val_loss: 0.7200 - val_accuracy: 0.8910\n",
            "Epoch 95/250\n",
            "480/480 [==============================] - 3s 6ms/step - loss: 0.0363 - accuracy: 0.9867 - val_loss: 0.7155 - val_accuracy: 0.8879\n",
            "Epoch 96/250\n",
            "480/480 [==============================] - 3s 6ms/step - loss: 0.0374 - accuracy: 0.9860 - val_loss: 0.6858 - val_accuracy: 0.8872\n",
            "Epoch 97/250\n",
            "480/480 [==============================] - 3s 7ms/step - loss: 0.0365 - accuracy: 0.9864 - val_loss: 0.6726 - val_accuracy: 0.8927\n",
            "Epoch 98/250\n",
            "480/480 [==============================] - 3s 6ms/step - loss: 0.0304 - accuracy: 0.9896 - val_loss: 0.6733 - val_accuracy: 0.8930\n",
            "Epoch 99/250\n",
            "480/480 [==============================] - 3s 6ms/step - loss: 0.0323 - accuracy: 0.9877 - val_loss: 0.7286 - val_accuracy: 0.8836\n",
            "Epoch 100/250\n",
            "480/480 [==============================] - 3s 6ms/step - loss: 0.0414 - accuracy: 0.9843 - val_loss: 0.7009 - val_accuracy: 0.8946\n",
            "Epoch 101/250\n",
            "480/480 [==============================] - 3s 6ms/step - loss: 0.0432 - accuracy: 0.9857 - val_loss: 0.7350 - val_accuracy: 0.8902\n",
            "Epoch 102/250\n",
            "480/480 [==============================] - 3s 6ms/step - loss: 0.0426 - accuracy: 0.9843 - val_loss: 0.7255 - val_accuracy: 0.8932\n",
            "Epoch 103/250\n",
            "480/480 [==============================] - 3s 6ms/step - loss: 0.0330 - accuracy: 0.9884 - val_loss: 0.7429 - val_accuracy: 0.8902\n",
            "Epoch 104/250\n",
            "480/480 [==============================] - 3s 6ms/step - loss: 0.0243 - accuracy: 0.9920 - val_loss: 0.7435 - val_accuracy: 0.8906\n",
            "Epoch 105/250\n",
            "480/480 [==============================] - 3s 6ms/step - loss: 0.0442 - accuracy: 0.9843 - val_loss: 0.7554 - val_accuracy: 0.8947\n",
            "Epoch 106/250\n",
            "480/480 [==============================] - 3s 6ms/step - loss: 0.0375 - accuracy: 0.9866 - val_loss: 0.7925 - val_accuracy: 0.8836\n",
            "Epoch 107/250\n",
            "480/480 [==============================] - 3s 6ms/step - loss: 0.0301 - accuracy: 0.9895 - val_loss: 0.7766 - val_accuracy: 0.8879\n",
            "Epoch 108/250\n",
            "480/480 [==============================] - 3s 6ms/step - loss: 0.0420 - accuracy: 0.9853 - val_loss: 0.7572 - val_accuracy: 0.8937\n",
            "Epoch 109/250\n",
            "480/480 [==============================] - 3s 6ms/step - loss: 0.0216 - accuracy: 0.9923 - val_loss: 0.7225 - val_accuracy: 0.8895\n",
            "Epoch 110/250\n",
            "480/480 [==============================] - 3s 6ms/step - loss: 0.0327 - accuracy: 0.9879 - val_loss: 0.7494 - val_accuracy: 0.8917\n",
            "Epoch 111/250\n",
            "480/480 [==============================] - 3s 6ms/step - loss: 0.0304 - accuracy: 0.9894 - val_loss: 0.8126 - val_accuracy: 0.8904\n",
            "Epoch 112/250\n",
            "480/480 [==============================] - 3s 6ms/step - loss: 0.0509 - accuracy: 0.9839 - val_loss: 0.8240 - val_accuracy: 0.8924\n",
            "Epoch 113/250\n",
            "480/480 [==============================] - 3s 6ms/step - loss: 0.0336 - accuracy: 0.9886 - val_loss: 0.8334 - val_accuracy: 0.8858\n",
            "Epoch 114/250\n",
            "480/480 [==============================] - 3s 6ms/step - loss: 0.0301 - accuracy: 0.9897 - val_loss: 0.7911 - val_accuracy: 0.8885\n",
            "Epoch 115/250\n",
            "480/480 [==============================] - 3s 6ms/step - loss: 0.0303 - accuracy: 0.9894 - val_loss: 0.8240 - val_accuracy: 0.8847\n",
            "Epoch 116/250\n",
            "480/480 [==============================] - 3s 6ms/step - loss: 0.0382 - accuracy: 0.9866 - val_loss: 0.7491 - val_accuracy: 0.8876\n",
            "Epoch 117/250\n",
            "480/480 [==============================] - 3s 6ms/step - loss: 0.0263 - accuracy: 0.9912 - val_loss: 0.7971 - val_accuracy: 0.8870\n",
            "Epoch 118/250\n",
            "480/480 [==============================] - 3s 6ms/step - loss: 0.0358 - accuracy: 0.9884 - val_loss: 0.8822 - val_accuracy: 0.8947\n",
            "Epoch 119/250\n",
            "480/480 [==============================] - 3s 6ms/step - loss: 0.0392 - accuracy: 0.9878 - val_loss: 0.7952 - val_accuracy: 0.8928\n",
            "Epoch 120/250\n",
            "480/480 [==============================] - 3s 6ms/step - loss: 0.0241 - accuracy: 0.9918 - val_loss: 0.7708 - val_accuracy: 0.8897\n",
            "Epoch 121/250\n",
            "480/480 [==============================] - 3s 6ms/step - loss: 0.0441 - accuracy: 0.9854 - val_loss: 0.8038 - val_accuracy: 0.8902\n",
            "Epoch 122/250\n",
            "480/480 [==============================] - 3s 6ms/step - loss: 0.0347 - accuracy: 0.9886 - val_loss: 0.8177 - val_accuracy: 0.8871\n",
            "Epoch 123/250\n",
            "480/480 [==============================] - 3s 6ms/step - loss: 0.0308 - accuracy: 0.9888 - val_loss: 0.7558 - val_accuracy: 0.8915\n",
            "Epoch 124/250\n",
            "480/480 [==============================] - 3s 6ms/step - loss: 0.0306 - accuracy: 0.9886 - val_loss: 0.8600 - val_accuracy: 0.8899\n",
            "Epoch 125/250\n",
            "480/480 [==============================] - 3s 6ms/step - loss: 0.0334 - accuracy: 0.9893 - val_loss: 0.9105 - val_accuracy: 0.8860\n",
            "Epoch 126/250\n",
            "480/480 [==============================] - 3s 6ms/step - loss: 0.0291 - accuracy: 0.9899 - val_loss: 0.7708 - val_accuracy: 0.8873\n",
            "Epoch 127/250\n",
            "480/480 [==============================] - 3s 6ms/step - loss: 0.0316 - accuracy: 0.9895 - val_loss: 0.7590 - val_accuracy: 0.8932\n",
            "Epoch 128/250\n",
            "480/480 [==============================] - 3s 6ms/step - loss: 0.0248 - accuracy: 0.9914 - val_loss: 0.8032 - val_accuracy: 0.8876\n",
            "Epoch 129/250\n",
            "480/480 [==============================] - 3s 6ms/step - loss: 0.0304 - accuracy: 0.9899 - val_loss: 0.8327 - val_accuracy: 0.8938\n",
            "Epoch 130/250\n",
            "480/480 [==============================] - 3s 6ms/step - loss: 0.0215 - accuracy: 0.9930 - val_loss: 0.8059 - val_accuracy: 0.8866\n",
            "Epoch 131/250\n",
            "480/480 [==============================] - 3s 6ms/step - loss: 0.0280 - accuracy: 0.9902 - val_loss: 0.8564 - val_accuracy: 0.8881\n",
            "Epoch 132/250\n",
            "480/480 [==============================] - 3s 6ms/step - loss: 0.0278 - accuracy: 0.9909 - val_loss: 0.8364 - val_accuracy: 0.8928\n",
            "Epoch 133/250\n",
            "480/480 [==============================] - 3s 6ms/step - loss: 0.0329 - accuracy: 0.9884 - val_loss: 0.8255 - val_accuracy: 0.8895\n",
            "Epoch 134/250\n",
            "480/480 [==============================] - 3s 6ms/step - loss: 0.0218 - accuracy: 0.9919 - val_loss: 0.8188 - val_accuracy: 0.8936\n",
            "Epoch 135/250\n",
            "480/480 [==============================] - 3s 6ms/step - loss: 0.0260 - accuracy: 0.9911 - val_loss: 0.8461 - val_accuracy: 0.8882\n",
            "Epoch 136/250\n",
            "480/480 [==============================] - 3s 6ms/step - loss: 0.0266 - accuracy: 0.9913 - val_loss: 0.7367 - val_accuracy: 0.8931\n",
            "Epoch 137/250\n",
            "480/480 [==============================] - 3s 6ms/step - loss: 0.0286 - accuracy: 0.9907 - val_loss: 0.8586 - val_accuracy: 0.8914\n",
            "Epoch 138/250\n",
            "480/480 [==============================] - 3s 6ms/step - loss: 0.0277 - accuracy: 0.9897 - val_loss: 0.8515 - val_accuracy: 0.8909\n",
            "Epoch 139/250\n",
            "480/480 [==============================] - 3s 6ms/step - loss: 0.0198 - accuracy: 0.9930 - val_loss: 0.8480 - val_accuracy: 0.8919\n",
            "Epoch 140/250\n",
            "480/480 [==============================] - 3s 6ms/step - loss: 0.0356 - accuracy: 0.9880 - val_loss: 0.7577 - val_accuracy: 0.8841\n",
            "Epoch 141/250\n",
            "480/480 [==============================] - 3s 6ms/step - loss: 0.0303 - accuracy: 0.9897 - val_loss: 0.8410 - val_accuracy: 0.8831\n",
            "Epoch 142/250\n",
            "480/480 [==============================] - 3s 6ms/step - loss: 0.0358 - accuracy: 0.9889 - val_loss: 0.8086 - val_accuracy: 0.8901\n",
            "Epoch 143/250\n",
            "480/480 [==============================] - 3s 6ms/step - loss: 0.0174 - accuracy: 0.9941 - val_loss: 0.8070 - val_accuracy: 0.8939\n",
            "Epoch 144/250\n",
            "480/480 [==============================] - 3s 6ms/step - loss: 0.0252 - accuracy: 0.9910 - val_loss: 0.8051 - val_accuracy: 0.8932\n",
            "Epoch 145/250\n",
            "480/480 [==============================] - 3s 6ms/step - loss: 0.0239 - accuracy: 0.9918 - val_loss: 0.8172 - val_accuracy: 0.8893\n",
            "Epoch 146/250\n",
            "480/480 [==============================] - 3s 6ms/step - loss: 0.0177 - accuracy: 0.9938 - val_loss: 0.7744 - val_accuracy: 0.8908\n",
            "Epoch 147/250\n",
            "480/480 [==============================] - 3s 6ms/step - loss: 0.0294 - accuracy: 0.9902 - val_loss: 0.7785 - val_accuracy: 0.8899\n",
            "Epoch 148/250\n",
            "480/480 [==============================] - 3s 6ms/step - loss: 0.0198 - accuracy: 0.9932 - val_loss: 0.8276 - val_accuracy: 0.8903\n",
            "Epoch 149/250\n",
            "480/480 [==============================] - 3s 6ms/step - loss: 0.0288 - accuracy: 0.9898 - val_loss: 0.9142 - val_accuracy: 0.8897\n",
            "Epoch 150/250\n",
            "480/480 [==============================] - 3s 6ms/step - loss: 0.0285 - accuracy: 0.9909 - val_loss: 0.7501 - val_accuracy: 0.8892\n",
            "Epoch 151/250\n",
            "480/480 [==============================] - 3s 6ms/step - loss: 0.0261 - accuracy: 0.9913 - val_loss: 0.8004 - val_accuracy: 0.8918\n",
            "Epoch 152/250\n",
            "480/480 [==============================] - 3s 6ms/step - loss: 0.0166 - accuracy: 0.9944 - val_loss: 0.8934 - val_accuracy: 0.8892\n",
            "Epoch 153/250\n",
            "480/480 [==============================] - 3s 6ms/step - loss: 0.0248 - accuracy: 0.9916 - val_loss: 0.7974 - val_accuracy: 0.8901\n",
            "Epoch 154/250\n",
            "480/480 [==============================] - 3s 6ms/step - loss: 0.0216 - accuracy: 0.9932 - val_loss: 0.8433 - val_accuracy: 0.8926\n",
            "Epoch 155/250\n",
            "480/480 [==============================] - 3s 6ms/step - loss: 0.0207 - accuracy: 0.9939 - val_loss: 0.8763 - val_accuracy: 0.8906\n",
            "Epoch 156/250\n",
            "480/480 [==============================] - 3s 6ms/step - loss: 0.0230 - accuracy: 0.9924 - val_loss: 0.9214 - val_accuracy: 0.8862\n",
            "Epoch 157/250\n",
            "480/480 [==============================] - 3s 6ms/step - loss: 0.0296 - accuracy: 0.9910 - val_loss: 0.8159 - val_accuracy: 0.8888\n",
            "Epoch 158/250\n",
            "480/480 [==============================] - 3s 6ms/step - loss: 0.0125 - accuracy: 0.9958 - val_loss: 0.8754 - val_accuracy: 0.8863\n",
            "Epoch 159/250\n",
            "480/480 [==============================] - 3s 6ms/step - loss: 0.0233 - accuracy: 0.9930 - val_loss: 0.9457 - val_accuracy: 0.8859\n",
            "Epoch 160/250\n",
            "480/480 [==============================] - 3s 6ms/step - loss: 0.0310 - accuracy: 0.9903 - val_loss: 0.8605 - val_accuracy: 0.8897\n",
            "Epoch 161/250\n",
            "480/480 [==============================] - 3s 6ms/step - loss: 0.0202 - accuracy: 0.9931 - val_loss: 0.9602 - val_accuracy: 0.8894\n",
            "Epoch 162/250\n",
            "480/480 [==============================] - 3s 6ms/step - loss: 0.0189 - accuracy: 0.9940 - val_loss: 0.8205 - val_accuracy: 0.8917\n",
            "Epoch 163/250\n",
            "480/480 [==============================] - 3s 6ms/step - loss: 0.0146 - accuracy: 0.9953 - val_loss: 0.8279 - val_accuracy: 0.8892\n",
            "Epoch 164/250\n",
            "480/480 [==============================] - 3s 6ms/step - loss: 0.0271 - accuracy: 0.9917 - val_loss: 0.8949 - val_accuracy: 0.8901\n",
            "Epoch 165/250\n",
            "480/480 [==============================] - 3s 6ms/step - loss: 0.0217 - accuracy: 0.9934 - val_loss: 0.8860 - val_accuracy: 0.8872\n",
            "Epoch 166/250\n",
            "480/480 [==============================] - 3s 6ms/step - loss: 0.0148 - accuracy: 0.9951 - val_loss: 0.8833 - val_accuracy: 0.8868\n",
            "Epoch 167/250\n",
            "480/480 [==============================] - 3s 6ms/step - loss: 0.0357 - accuracy: 0.9893 - val_loss: 0.8134 - val_accuracy: 0.8919\n",
            "Epoch 168/250\n",
            "480/480 [==============================] - 3s 6ms/step - loss: 0.0147 - accuracy: 0.9952 - val_loss: 0.9354 - val_accuracy: 0.8892\n",
            "Epoch 169/250\n",
            "480/480 [==============================] - 3s 6ms/step - loss: 0.0282 - accuracy: 0.9904 - val_loss: 0.8571 - val_accuracy: 0.8892\n",
            "Epoch 170/250\n",
            "480/480 [==============================] - 3s 6ms/step - loss: 0.0118 - accuracy: 0.9961 - val_loss: 0.8320 - val_accuracy: 0.8918\n",
            "Epoch 171/250\n",
            "480/480 [==============================] - 3s 6ms/step - loss: 0.0188 - accuracy: 0.9938 - val_loss: 0.8912 - val_accuracy: 0.8888\n",
            "Epoch 172/250\n",
            "480/480 [==============================] - 3s 6ms/step - loss: 0.0234 - accuracy: 0.9926 - val_loss: 0.8371 - val_accuracy: 0.8907\n",
            "Epoch 173/250\n",
            "480/480 [==============================] - 3s 6ms/step - loss: 0.0248 - accuracy: 0.9911 - val_loss: 0.9127 - val_accuracy: 0.8870\n",
            "Epoch 174/250\n",
            "480/480 [==============================] - 3s 6ms/step - loss: 0.0201 - accuracy: 0.9942 - val_loss: 0.8299 - val_accuracy: 0.8925\n",
            "Epoch 175/250\n",
            "480/480 [==============================] - 3s 6ms/step - loss: 0.0088 - accuracy: 0.9969 - val_loss: 0.8895 - val_accuracy: 0.8904\n",
            "Epoch 176/250\n",
            "480/480 [==============================] - 3s 6ms/step - loss: 0.0199 - accuracy: 0.9930 - val_loss: 0.8787 - val_accuracy: 0.8883\n",
            "Epoch 177/250\n",
            "480/480 [==============================] - 3s 6ms/step - loss: 0.0330 - accuracy: 0.9897 - val_loss: 0.9920 - val_accuracy: 0.8895\n",
            "Epoch 178/250\n",
            "480/480 [==============================] - 3s 6ms/step - loss: 0.0229 - accuracy: 0.9919 - val_loss: 0.7774 - val_accuracy: 0.8882\n",
            "Epoch 179/250\n",
            "480/480 [==============================] - 3s 6ms/step - loss: 0.0185 - accuracy: 0.9945 - val_loss: 0.8346 - val_accuracy: 0.8892\n",
            "Epoch 180/250\n",
            "480/480 [==============================] - 3s 6ms/step - loss: 0.0192 - accuracy: 0.9941 - val_loss: 0.9050 - val_accuracy: 0.8889\n",
            "Epoch 181/250\n",
            "480/480 [==============================] - 3s 6ms/step - loss: 0.0205 - accuracy: 0.9940 - val_loss: 0.8835 - val_accuracy: 0.8889\n",
            "Epoch 182/250\n",
            "480/480 [==============================] - 3s 6ms/step - loss: 0.0132 - accuracy: 0.9960 - val_loss: 1.1118 - val_accuracy: 0.8902\n",
            "Epoch 183/250\n",
            "480/480 [==============================] - 3s 6ms/step - loss: 0.0230 - accuracy: 0.9930 - val_loss: 1.0033 - val_accuracy: 0.8885\n",
            "Epoch 184/250\n",
            "480/480 [==============================] - 3s 6ms/step - loss: 0.0152 - accuracy: 0.9952 - val_loss: 0.8930 - val_accuracy: 0.8832\n",
            "Epoch 185/250\n",
            "480/480 [==============================] - 3s 6ms/step - loss: 0.0225 - accuracy: 0.9931 - val_loss: 0.8609 - val_accuracy: 0.8903\n",
            "Epoch 186/250\n",
            "480/480 [==============================] - 3s 6ms/step - loss: 0.0201 - accuracy: 0.9937 - val_loss: 0.8819 - val_accuracy: 0.8888\n",
            "Epoch 187/250\n",
            "480/480 [==============================] - 3s 6ms/step - loss: 0.0170 - accuracy: 0.9939 - val_loss: 0.9227 - val_accuracy: 0.8905\n",
            "Epoch 188/250\n",
            "480/480 [==============================] - 3s 6ms/step - loss: 0.0166 - accuracy: 0.9937 - val_loss: 0.9019 - val_accuracy: 0.8891\n",
            "Epoch 189/250\n",
            "480/480 [==============================] - 3s 6ms/step - loss: 0.0159 - accuracy: 0.9949 - val_loss: 0.8946 - val_accuracy: 0.8915\n",
            "Epoch 190/250\n",
            "480/480 [==============================] - 3s 6ms/step - loss: 0.0180 - accuracy: 0.9943 - val_loss: 0.8212 - val_accuracy: 0.8937\n",
            "Epoch 191/250\n",
            "480/480 [==============================] - 3s 6ms/step - loss: 0.0092 - accuracy: 0.9972 - val_loss: 0.9727 - val_accuracy: 0.8923\n",
            "Epoch 192/250\n",
            "480/480 [==============================] - 3s 6ms/step - loss: 0.0299 - accuracy: 0.9901 - val_loss: 0.8378 - val_accuracy: 0.8917\n",
            "Epoch 193/250\n",
            "480/480 [==============================] - 3s 6ms/step - loss: 0.0180 - accuracy: 0.9951 - val_loss: 0.8685 - val_accuracy: 0.8936\n",
            "Epoch 194/250\n",
            "480/480 [==============================] - 3s 6ms/step - loss: 0.0154 - accuracy: 0.9952 - val_loss: 0.8298 - val_accuracy: 0.8905\n",
            "Epoch 195/250\n",
            "480/480 [==============================] - 3s 6ms/step - loss: 0.0108 - accuracy: 0.9970 - val_loss: 0.9184 - val_accuracy: 0.8902\n",
            "Epoch 196/250\n",
            "480/480 [==============================] - 3s 6ms/step - loss: 0.0191 - accuracy: 0.9939 - val_loss: 0.9296 - val_accuracy: 0.8922\n",
            "Epoch 197/250\n",
            "480/480 [==============================] - 3s 6ms/step - loss: 0.0168 - accuracy: 0.9943 - val_loss: 0.8088 - val_accuracy: 0.8913\n",
            "Epoch 198/250\n",
            "480/480 [==============================] - 3s 7ms/step - loss: 0.0148 - accuracy: 0.9952 - val_loss: 1.0937 - val_accuracy: 0.8894\n",
            "Epoch 199/250\n",
            "480/480 [==============================] - 3s 7ms/step - loss: 0.0307 - accuracy: 0.9898 - val_loss: 0.9361 - val_accuracy: 0.8919\n",
            "Epoch 200/250\n",
            "480/480 [==============================] - 3s 6ms/step - loss: 0.0148 - accuracy: 0.9957 - val_loss: 0.7378 - val_accuracy: 0.8947\n",
            "Epoch 201/250\n",
            "480/480 [==============================] - 3s 6ms/step - loss: 0.0139 - accuracy: 0.9958 - val_loss: 0.8429 - val_accuracy: 0.8861\n",
            "Epoch 202/250\n",
            "480/480 [==============================] - 3s 6ms/step - loss: 0.0183 - accuracy: 0.9941 - val_loss: 0.9100 - val_accuracy: 0.8816\n",
            "Epoch 203/250\n",
            "480/480 [==============================] - 3s 6ms/step - loss: 0.0182 - accuracy: 0.9936 - val_loss: 0.8670 - val_accuracy: 0.8890\n",
            "Epoch 204/250\n",
            "480/480 [==============================] - 3s 6ms/step - loss: 0.0099 - accuracy: 0.9970 - val_loss: 0.8491 - val_accuracy: 0.8874\n",
            "Epoch 205/250\n",
            "480/480 [==============================] - 3s 6ms/step - loss: 0.0200 - accuracy: 0.9931 - val_loss: 0.8750 - val_accuracy: 0.8904\n",
            "Epoch 206/250\n",
            "480/480 [==============================] - 3s 6ms/step - loss: 0.0172 - accuracy: 0.9949 - val_loss: 0.9500 - val_accuracy: 0.8935\n",
            "Epoch 207/250\n",
            "480/480 [==============================] - 3s 7ms/step - loss: 0.0205 - accuracy: 0.9936 - val_loss: 1.0081 - val_accuracy: 0.8940\n",
            "Epoch 208/250\n",
            "480/480 [==============================] - 3s 6ms/step - loss: 0.0078 - accuracy: 0.9976 - val_loss: 0.9563 - val_accuracy: 0.8882\n",
            "Epoch 209/250\n",
            "480/480 [==============================] - 3s 7ms/step - loss: 0.0243 - accuracy: 0.9922 - val_loss: 0.8138 - val_accuracy: 0.8929\n",
            "Epoch 210/250\n",
            "480/480 [==============================] - 4s 8ms/step - loss: 0.0139 - accuracy: 0.9951 - val_loss: 0.9606 - val_accuracy: 0.8907\n",
            "Epoch 211/250\n",
            "480/480 [==============================] - 3s 7ms/step - loss: 0.0147 - accuracy: 0.9949 - val_loss: 0.9030 - val_accuracy: 0.8920\n",
            "Epoch 212/250\n",
            "480/480 [==============================] - 4s 8ms/step - loss: 0.0164 - accuracy: 0.9946 - val_loss: 0.8693 - val_accuracy: 0.8906\n",
            "Epoch 213/250\n",
            "480/480 [==============================] - 3s 6ms/step - loss: 0.0118 - accuracy: 0.9965 - val_loss: 0.8363 - val_accuracy: 0.8859\n",
            "Epoch 214/250\n",
            "480/480 [==============================] - 3s 6ms/step - loss: 0.0177 - accuracy: 0.9951 - val_loss: 1.0907 - val_accuracy: 0.8881\n",
            "Epoch 215/250\n",
            "480/480 [==============================] - 3s 6ms/step - loss: 0.0252 - accuracy: 0.9928 - val_loss: 0.9716 - val_accuracy: 0.8888\n",
            "Epoch 216/250\n",
            "480/480 [==============================] - 3s 6ms/step - loss: 0.0265 - accuracy: 0.9908 - val_loss: 0.9265 - val_accuracy: 0.8942\n",
            "Epoch 217/250\n",
            "480/480 [==============================] - 3s 6ms/step - loss: 0.0103 - accuracy: 0.9969 - val_loss: 0.9241 - val_accuracy: 0.8904\n",
            "Epoch 218/250\n",
            "480/480 [==============================] - 3s 6ms/step - loss: 0.0304 - accuracy: 0.9900 - val_loss: 0.9397 - val_accuracy: 0.8942\n",
            "Epoch 219/250\n",
            "480/480 [==============================] - 3s 6ms/step - loss: 0.0095 - accuracy: 0.9972 - val_loss: 0.9464 - val_accuracy: 0.8921\n",
            "Epoch 220/250\n",
            "480/480 [==============================] - 3s 6ms/step - loss: 0.0133 - accuracy: 0.9963 - val_loss: 0.9901 - val_accuracy: 0.8923\n",
            "Epoch 221/250\n",
            "480/480 [==============================] - 3s 6ms/step - loss: 0.0077 - accuracy: 0.9978 - val_loss: 1.1001 - val_accuracy: 0.8929\n",
            "Epoch 222/250\n",
            "480/480 [==============================] - 3s 6ms/step - loss: 0.0182 - accuracy: 0.9941 - val_loss: 0.8074 - val_accuracy: 0.8937\n",
            "Epoch 223/250\n",
            "480/480 [==============================] - 3s 6ms/step - loss: 0.0161 - accuracy: 0.9947 - val_loss: 0.9273 - val_accuracy: 0.8928\n",
            "Epoch 224/250\n",
            "480/480 [==============================] - 3s 6ms/step - loss: 0.0156 - accuracy: 0.9948 - val_loss: 0.9597 - val_accuracy: 0.8935\n",
            "Epoch 225/250\n",
            "480/480 [==============================] - 3s 6ms/step - loss: 0.0161 - accuracy: 0.9945 - val_loss: 0.9146 - val_accuracy: 0.8962\n",
            "Epoch 226/250\n",
            "480/480 [==============================] - 3s 6ms/step - loss: 0.0123 - accuracy: 0.9960 - val_loss: 0.9376 - val_accuracy: 0.8951\n",
            "Epoch 227/250\n",
            "480/480 [==============================] - 3s 6ms/step - loss: 0.0076 - accuracy: 0.9979 - val_loss: 0.8466 - val_accuracy: 0.8924\n",
            "Epoch 228/250\n",
            "480/480 [==============================] - 3s 6ms/step - loss: 0.0153 - accuracy: 0.9950 - val_loss: 1.0528 - val_accuracy: 0.8925\n",
            "Epoch 229/250\n",
            "480/480 [==============================] - 3s 6ms/step - loss: 0.0166 - accuracy: 0.9950 - val_loss: 0.8871 - val_accuracy: 0.8916\n",
            "Epoch 230/250\n",
            "480/480 [==============================] - 3s 6ms/step - loss: 0.0112 - accuracy: 0.9962 - val_loss: 1.1097 - val_accuracy: 0.8944\n",
            "Epoch 231/250\n",
            "480/480 [==============================] - 3s 6ms/step - loss: 0.0199 - accuracy: 0.9942 - val_loss: 0.9503 - val_accuracy: 0.8899\n",
            "Epoch 232/250\n",
            "480/480 [==============================] - 3s 6ms/step - loss: 0.0232 - accuracy: 0.9932 - val_loss: 1.0071 - val_accuracy: 0.8930\n",
            "Epoch 233/250\n",
            "480/480 [==============================] - 3s 6ms/step - loss: 0.0077 - accuracy: 0.9975 - val_loss: 1.1045 - val_accuracy: 0.8892\n",
            "Epoch 234/250\n",
            "480/480 [==============================] - 3s 6ms/step - loss: 0.0141 - accuracy: 0.9953 - val_loss: 0.8482 - val_accuracy: 0.8863\n",
            "Epoch 235/250\n",
            "480/480 [==============================] - 3s 6ms/step - loss: 0.0174 - accuracy: 0.9951 - val_loss: 0.9443 - val_accuracy: 0.8887\n",
            "Epoch 236/250\n",
            "480/480 [==============================] - 3s 6ms/step - loss: 0.0272 - accuracy: 0.9914 - val_loss: 1.0340 - val_accuracy: 0.8935\n",
            "Epoch 237/250\n",
            "480/480 [==============================] - 3s 6ms/step - loss: 0.0100 - accuracy: 0.9971 - val_loss: 1.0693 - val_accuracy: 0.8909\n",
            "Epoch 238/250\n",
            "480/480 [==============================] - 3s 6ms/step - loss: 0.0381 - accuracy: 0.9889 - val_loss: 0.8948 - val_accuracy: 0.8898\n",
            "Epoch 239/250\n",
            "480/480 [==============================] - 3s 6ms/step - loss: 0.0097 - accuracy: 0.9971 - val_loss: 0.9292 - val_accuracy: 0.8876\n",
            "Epoch 240/250\n",
            "480/480 [==============================] - 3s 6ms/step - loss: 0.0176 - accuracy: 0.9939 - val_loss: 1.1048 - val_accuracy: 0.8932\n",
            "Epoch 241/250\n",
            "480/480 [==============================] - 3s 6ms/step - loss: 0.0150 - accuracy: 0.9958 - val_loss: 0.8941 - val_accuracy: 0.8867\n",
            "Epoch 242/250\n",
            "480/480 [==============================] - 3s 6ms/step - loss: 0.0128 - accuracy: 0.9959 - val_loss: 0.9471 - val_accuracy: 0.8938\n",
            "Epoch 243/250\n",
            "480/480 [==============================] - 3s 6ms/step - loss: 0.0060 - accuracy: 0.9980 - val_loss: 1.0700 - val_accuracy: 0.8852\n",
            "Epoch 244/250\n",
            "480/480 [==============================] - 3s 6ms/step - loss: 0.0248 - accuracy: 0.9915 - val_loss: 0.9641 - val_accuracy: 0.8913\n",
            "Epoch 245/250\n",
            "480/480 [==============================] - 3s 6ms/step - loss: 0.0127 - accuracy: 0.9962 - val_loss: 0.9861 - val_accuracy: 0.8901\n",
            "Epoch 246/250\n",
            "480/480 [==============================] - 3s 6ms/step - loss: 0.0164 - accuracy: 0.9944 - val_loss: 0.8682 - val_accuracy: 0.8853\n",
            "Epoch 247/250\n",
            "480/480 [==============================] - 3s 6ms/step - loss: 0.0234 - accuracy: 0.9931 - val_loss: 0.9699 - val_accuracy: 0.8917\n",
            "Epoch 248/250\n",
            "480/480 [==============================] - 3s 6ms/step - loss: 0.0154 - accuracy: 0.9949 - val_loss: 1.0378 - val_accuracy: 0.8889\n",
            "Epoch 249/250\n",
            "480/480 [==============================] - 3s 6ms/step - loss: 0.0116 - accuracy: 0.9967 - val_loss: 1.0934 - val_accuracy: 0.8863\n",
            "Epoch 250/250\n",
            "480/480 [==============================] - 3s 6ms/step - loss: 0.0251 - accuracy: 0.9929 - val_loss: 0.9478 - val_accuracy: 0.8902\n"
          ],
          "name": "stdout"
        },
        {
          "output_type": "execute_result",
          "data": {
            "text/plain": [
              "<tensorflow.python.keras.callbacks.History at 0x7f5c92985240>"
            ]
          },
          "metadata": {
            "tags": []
          },
          "execution_count": 34
        }
      ]
    },
    {
      "cell_type": "code",
      "metadata": {
        "colab": {
          "base_uri": "https://localhost:8080/"
        },
        "id": "k7LeapkbYlUg",
        "outputId": "39a1dd16-bea3-4eaf-bb26-9a4475025528"
      },
      "source": [
        "scores = model.evaluate(X_test, y_test)\r\n",
        "print(scores)"
      ],
      "execution_count": 35,
      "outputs": [
        {
          "output_type": "stream",
          "text": [
            "313/313 [==============================] - 1s 2ms/step - loss: 0.9859 - accuracy: 0.8872\n",
            "[0.9858945608139038, 0.8871999979019165]\n"
          ],
          "name": "stdout"
        }
      ]
    }
  ]
}
